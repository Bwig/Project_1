{
 "cells": [
  {
   "cell_type": "code",
   "execution_count": 10,
   "metadata": {},
   "outputs": [],
   "source": [
    "import pandas as pd\n",
    "import matplotlib.pyplot as plt\n",
    "import numpy as np"
   ]
  },
  {
   "cell_type": "code",
   "execution_count": 11,
   "metadata": {},
   "outputs": [
    {
     "data": {
      "text/plain": [
       "(162055, 34)"
      ]
     },
     "execution_count": 11,
     "metadata": {},
     "output_type": "execute_result"
    }
   ],
   "source": [
    "matt_crashes = pd.read_csv('Crashes.csv')\n",
    "del matt_crashes['Unnamed: 0']\n",
    "matt_crashes.head()\n",
    "matt_crashes.shape"
   ]
  },
  {
   "cell_type": "code",
   "execution_count": 12,
   "metadata": {},
   "outputs": [
    {
     "data": {
      "text/plain": [
       "Index(['RD_NO', 'CRASH_DATE_EST_I', 'CRASH_DATE', 'POSTED_SPEED_LIMIT',\n",
       "       'TRAFFIC_CONTROL_DEVICE', 'DEVICE_CONDITION', 'WEATHER_CONDITION',\n",
       "       'LIGHTING_CONDITION', 'FIRST_CRASH_TYPE', 'TRAFFICWAY_TYPE', 'LANE_CNT',\n",
       "       'ALIGNMENT', 'ROADWAY_SURFACE_COND', 'ROAD_DEFECT', 'REPORT_TYPE',\n",
       "       'CRASH_TYPE', 'INTERSECTION_RELATED_I', 'HIT_AND_RUN_I', 'DAMAGE',\n",
       "       'PRIM_CONTRIBUTORY_CAUSE', 'SEC_CONTRIBUTORY_CAUSE', 'STREET_NO',\n",
       "       'STREET_DIRECTION', 'STREET_NAME', 'BEAT_OF_OCCURRENCE', 'NUM_UNITS',\n",
       "       'MOST_SEVERE_INJURY', 'INJURIES_TOTAL', 'INJURIES_FATAL', 'CRASH_HOUR',\n",
       "       'CRASH_DAY_OF_WEEK', 'CRASH_MONTH', 'LATITUDE', 'LONGITUDE'],\n",
       "      dtype='object')"
      ]
     },
     "execution_count": 12,
     "metadata": {},
     "output_type": "execute_result"
    }
   ],
   "source": [
    "matt_crashes.columns"
   ]
  },
  {
   "cell_type": "code",
   "execution_count": 13,
   "metadata": {},
   "outputs": [],
   "source": [
    "sunday = matt_crashes.loc[matt_crashes['CRASH_DAY_OF_WEEK'] == 1, ['CRASH_HOUR']]\n",
    "monday = matt_crashes.loc[matt_crashes['CRASH_DAY_OF_WEEK'] == 2, ['CRASH_HOUR']]\n",
    "tuesday = matt_crashes.loc[matt_crashes['CRASH_DAY_OF_WEEK'] == 3, ['CRASH_HOUR']]\n",
    "wednesday = matt_crashes.loc[matt_crashes['CRASH_DAY_OF_WEEK'] == 4, ['CRASH_HOUR']]\n",
    "thursday = matt_crashes.loc[matt_crashes['CRASH_DAY_OF_WEEK'] == 5, ['CRASH_HOUR']]\n",
    "friday = matt_crashes.loc[matt_crashes['CRASH_DAY_OF_WEEK'] == 6, ['CRASH_HOUR']]\n",
    "saturday = matt_crashes.loc[matt_crashes['CRASH_DAY_OF_WEEK'] == 7, ['CRASH_HOUR']]\n",
    "\n",
    "day_list = []\n",
    "day_list.append(len(sunday['CRASH_HOUR']))\n",
    "day_list.append(len(monday['CRASH_HOUR']))\n",
    "day_list.append(len(tuesday['CRASH_HOUR']))\n",
    "day_list.append(len(wednesday['CRASH_HOUR']))\n",
    "day_list.append(len(thursday['CRASH_HOUR']))\n",
    "day_list.append(len(friday['CRASH_HOUR']))\n",
    "day_list.append(len(saturday['CRASH_HOUR']))\n",
    "#Figure out a way to loop this"
   ]
  },
  {
   "cell_type": "code",
   "execution_count": 14,
   "metadata": {},
   "outputs": [
    {
     "data": {
      "text/plain": [
       "Text(0.5,1,'Number of Crashes by Day of Ocurrence')"
      ]
     },
     "execution_count": 14,
     "metadata": {},
     "output_type": "execute_result"
    },
    {
     "data": {
      "image/png": "[encoded data removed]",
      "text/plain": [
       "<Figure size 432x288 with 1 Axes>"
      ]
     },
     "metadata": {},
     "output_type": "display_data"
    }
   ],
   "source": [
    "week = ['Sunday', 'Monday', 'Tuesday', 'Wednesday', 'Thursday', 'Friday', 'Saturday']\n",
    "color = ['navy', 'sienna', 'seagreen', 'darkorange', 'cornflowerblue', 'lightcoral', 'moccasin']\n",
    "plt.bar(week, day_list, width=0.35, color=color)\n",
    "plt.ylabel('# of Accidents')\n",
    "plt.xlabel('Day')\n",
    "plt.xticks(rotation=45)\n",
    "plt.title('Number of Crashes by Day of Ocurrence')"
   ]
  },
  {
   "cell_type": "code",
   "execution_count": 15,
   "metadata": {},
   "outputs": [
    {
     "data": {
      "text/plain": [
       "16    12498\n",
       "15    12402\n",
       "17    12261\n",
       "14    10922\n",
       "18    10093\n",
       "13     9705\n",
       "12     9247\n",
       "8      9200\n",
       "11     7973\n",
       "9      7963\n",
       "7      7630\n",
       "10     7324\n",
       "19     7153\n",
       "20     5671\n",
       "21     5221\n",
       "22     4910\n",
       "23     4043\n",
       "6      3805\n",
       "0      3124\n",
       "1      2668\n",
       "2      2396\n",
       "5      2218\n",
       "3      1912\n",
       "4      1716\n",
       "Name: CRASH_HOUR, dtype: int64"
      ]
     },
     "execution_count": 15,
     "metadata": {},
     "output_type": "execute_result"
    }
   ],
   "source": [
    "matt_crashes['CRASH_HOUR'].value_counts()"
   ]
  },
  {
   "cell_type": "code",
   "execution_count": 16,
   "metadata": {},
   "outputs": [
    {
     "data": {
      "text/plain": [
       "<pandas.core.groupby.groupby.DataFrameGroupBy object at 0x102de1da0>"
      ]
     },
     "execution_count": 16,
     "metadata": {},
     "output_type": "execute_result"
    }
   ],
   "source": [
    "crash_hours = pd.DataFrame(matt_crashes[['CRASH_DAY_OF_WEEK', 'CRASH_HOUR']])\n",
    "hrs = [-1, 6, 10, 14, 19, 23]\n",
    "groups = ['Midnight - 6AM', '7AM - 10AM', '11AM - 2PM', '3PM - 7PM', '8PM - 11PM']\n",
    "crash_hours['Hours'] = pd.cut(crash_hours['CRASH_HOUR'], bins=hrs, labels=groups)\n",
    "crash_hours = crash_hours.groupby('CRASH_DAY_OF_WEEK')\n",
    "crash_hours"
   ]
  },
  {
   "cell_type": "code",
   "execution_count": 17,
   "metadata": {},
   "outputs": [],
   "source": [
    "sunday['CAT'] = pd.cut(sunday['CRASH_HOUR'], bins=hrs, labels=groups)\n",
    "sunday_grouped = sunday.groupby('CAT')\n",
    "sun_list = sunday_grouped['CRASH_HOUR'].count().tolist()\n",
    "monday['CAT'] = pd.cut(monday['CRASH_HOUR'], bins=hrs, labels=groups)\n",
    "monday_grouped = monday.groupby('CAT')\n",
    "mon_list = monday_grouped['CRASH_HOUR'].count().tolist()\n",
    "tuesday['CAT'] = pd.cut(tuesday['CRASH_HOUR'], bins=hrs, labels=groups)\n",
    "tuesday_grouped = tuesday.groupby('CAT')\n",
    "tues_list = tuesday_grouped['CRASH_HOUR'].count().tolist()\n",
    "wednesday['CAT'] = pd.cut(wednesday['CRASH_HOUR'], bins=hrs, labels=groups)\n",
    "wednesday_grouped = wednesday.groupby('CAT')\n",
    "wed_list = wednesday_grouped['CRASH_HOUR'].count().tolist()\n",
    "thursday['CAT'] = pd.cut(thursday['CRASH_HOUR'], bins=hrs, labels=groups)\n",
    "thursday_grouped = thursday.groupby('CAT')\n",
    "thurs_list = thursday_grouped['CRASH_HOUR'].count().tolist()\n",
    "friday['CAT'] = pd.cut(friday['CRASH_HOUR'], bins=hrs, labels=groups)\n",
    "friday_grouped = friday.groupby('CAT')\n",
    "fri_list = friday_grouped['CRASH_HOUR'].count().tolist()\n",
    "saturday['CAT'] = pd.cut(saturday['CRASH_HOUR'], bins=hrs, labels=groups)\n",
    "saturday_grouped = saturday.groupby('CAT')\n",
    "sat_list = saturday_grouped['CRASH_HOUR'].count().tolist()\n",
    "#Figure out a way to loop or function this"
   ]
  },
  {
   "cell_type": "code",
   "execution_count": 18,
   "metadata": {},
   "outputs": [
    {
     "data": {
      "text/html": [
       "<div>\n",
       "<style scoped>\n",
       "    .dataframe tbody tr th:only-of-type {\n",
       "        vertical-align: middle;\n",
       "    }\n",
       "\n",
       "    .dataframe tbody tr th {\n",
       "        vertical-align: top;\n",
       "    }\n",
       "\n",
       "    .dataframe thead th {\n",
       "        text-align: right;\n",
       "    }\n",
       "</style>\n",
       "<table border=\"1\" class=\"dataframe\">\n",
       "  <thead>\n",
       "    <tr style=\"text-align: right;\">\n",
       "      <th></th>\n",
       "      <th>Sunday</th>\n",
       "      <th>Monday</th>\n",
       "      <th>Tuesday</th>\n",
       "      <th>Wednesday</th>\n",
       "      <th>Thursday</th>\n",
       "      <th>Friday</th>\n",
       "      <th>Saturday</th>\n",
       "    </tr>\n",
       "    <tr>\n",
       "      <th>Category</th>\n",
       "      <th></th>\n",
       "      <th></th>\n",
       "      <th></th>\n",
       "      <th></th>\n",
       "      <th></th>\n",
       "      <th></th>\n",
       "      <th></th>\n",
       "    </tr>\n",
       "  </thead>\n",
       "  <tbody>\n",
       "    <tr>\n",
       "      <th>Midnight - 6AM</th>\n",
       "      <td>4468</td>\n",
       "      <td>2268</td>\n",
       "      <td>1821</td>\n",
       "      <td>1817</td>\n",
       "      <td>1894</td>\n",
       "      <td>2072</td>\n",
       "      <td>3499</td>\n",
       "    </tr>\n",
       "    <tr>\n",
       "      <th>7AM - 10AM</th>\n",
       "      <td>2210</td>\n",
       "      <td>5246</td>\n",
       "      <td>5597</td>\n",
       "      <td>5611</td>\n",
       "      <td>5302</td>\n",
       "      <td>5017</td>\n",
       "      <td>3134</td>\n",
       "    </tr>\n",
       "    <tr>\n",
       "      <th>11AM - 2PM</th>\n",
       "      <td>4626</td>\n",
       "      <td>5132</td>\n",
       "      <td>5306</td>\n",
       "      <td>5353</td>\n",
       "      <td>5130</td>\n",
       "      <td>6107</td>\n",
       "      <td>6193</td>\n",
       "    </tr>\n",
       "    <tr>\n",
       "      <th>3PM - 7PM</th>\n",
       "      <td>5301</td>\n",
       "      <td>7818</td>\n",
       "      <td>8460</td>\n",
       "      <td>8133</td>\n",
       "      <td>8322</td>\n",
       "      <td>9417</td>\n",
       "      <td>6956</td>\n",
       "    </tr>\n",
       "    <tr>\n",
       "      <th>8PM - 11PM</th>\n",
       "      <td>2578</td>\n",
       "      <td>2136</td>\n",
       "      <td>2382</td>\n",
       "      <td>2496</td>\n",
       "      <td>2605</td>\n",
       "      <td>3699</td>\n",
       "      <td>3949</td>\n",
       "    </tr>\n",
       "  </tbody>\n",
       "</table>\n",
       "</div>"
      ],
      "text/plain": [
       "                Sunday  Monday  Tuesday  Wednesday  Thursday  Friday  Saturday\n",
       "Category                                                                      \n",
       "Midnight - 6AM    4468    2268     1821       1817      1894    2072      3499\n",
       "7AM - 10AM        2210    5246     5597       5611      5302    5017      3134\n",
       "11AM - 2PM        4626    5132     5306       5353      5130    6107      6193\n",
       "3PM - 7PM         5301    7818     8460       8133      8322    9417      6956\n",
       "8PM - 11PM        2578    2136     2382       2496      2605    3699      3949"
      ]
     },
     "execution_count": 18,
     "metadata": {},
     "output_type": "execute_result"
    }
   ],
   "source": [
    "new_df = pd.DataFrame({'Category': ['Midnight - 6AM', '7AM - 10AM', '11AM - 2PM', '3PM - 7PM', '8PM - 11PM'],\n",
    "                       'Sunday': sun_list,\n",
    "                       'Monday': mon_list,\n",
    "                       'Tuesday': tues_list,\n",
    "                       'Wednesday': wed_list,\n",
    "                       'Thursday': thurs_list,\n",
    "                       'Friday': fri_list,\n",
    "                       'Saturday': sat_list\n",
    "                       })\n",
    "#del new_df['Category']\n",
    "new_df.set_index('Category', inplace=True)\n",
    "new_df"
   ]
  },
  {
   "cell_type": "code",
   "execution_count": 19,
   "metadata": {},
   "outputs": [
    {
     "data": {
      "text/html": [
       "<div>\n",
       "<style scoped>\n",
       "    .dataframe tbody tr th:only-of-type {\n",
       "        vertical-align: middle;\n",
       "    }\n",
       "\n",
       "    .dataframe tbody tr th {\n",
       "        vertical-align: top;\n",
       "    }\n",
       "\n",
       "    .dataframe thead th {\n",
       "        text-align: right;\n",
       "    }\n",
       "</style>\n",
       "<table border=\"1\" class=\"dataframe\">\n",
       "  <thead>\n",
       "    <tr style=\"text-align: right;\">\n",
       "      <th>Category</th>\n",
       "      <th>Midnight - 6AM</th>\n",
       "      <th>7AM - 10AM</th>\n",
       "      <th>11AM - 2PM</th>\n",
       "      <th>3PM - 7PM</th>\n",
       "      <th>8PM - 11PM</th>\n",
       "    </tr>\n",
       "  </thead>\n",
       "  <tbody>\n",
       "    <tr>\n",
       "      <th>Sunday</th>\n",
       "      <td>4468</td>\n",
       "      <td>2210</td>\n",
       "      <td>4626</td>\n",
       "      <td>5301</td>\n",
       "      <td>2578</td>\n",
       "    </tr>\n",
       "    <tr>\n",
       "      <th>Monday</th>\n",
       "      <td>2268</td>\n",
       "      <td>5246</td>\n",
       "      <td>5132</td>\n",
       "      <td>7818</td>\n",
       "      <td>2136</td>\n",
       "    </tr>\n",
       "    <tr>\n",
       "      <th>Tuesday</th>\n",
       "      <td>1821</td>\n",
       "      <td>5597</td>\n",
       "      <td>5306</td>\n",
       "      <td>8460</td>\n",
       "      <td>2382</td>\n",
       "    </tr>\n",
       "    <tr>\n",
       "      <th>Wednesday</th>\n",
       "      <td>1817</td>\n",
       "      <td>5611</td>\n",
       "      <td>5353</td>\n",
       "      <td>8133</td>\n",
       "      <td>2496</td>\n",
       "    </tr>\n",
       "    <tr>\n",
       "      <th>Thursday</th>\n",
       "      <td>1894</td>\n",
       "      <td>5302</td>\n",
       "      <td>5130</td>\n",
       "      <td>8322</td>\n",
       "      <td>2605</td>\n",
       "    </tr>\n",
       "    <tr>\n",
       "      <th>Friday</th>\n",
       "      <td>2072</td>\n",
       "      <td>5017</td>\n",
       "      <td>6107</td>\n",
       "      <td>9417</td>\n",
       "      <td>3699</td>\n",
       "    </tr>\n",
       "    <tr>\n",
       "      <th>Saturday</th>\n",
       "      <td>3499</td>\n",
       "      <td>3134</td>\n",
       "      <td>6193</td>\n",
       "      <td>6956</td>\n",
       "      <td>3949</td>\n",
       "    </tr>\n",
       "  </tbody>\n",
       "</table>\n",
       "</div>"
      ],
      "text/plain": [
       "Category   Midnight - 6AM  7AM - 10AM  11AM - 2PM  3PM - 7PM  8PM - 11PM\n",
       "Sunday               4468        2210        4626       5301        2578\n",
       "Monday               2268        5246        5132       7818        2136\n",
       "Tuesday              1821        5597        5306       8460        2382\n",
       "Wednesday            1817        5611        5353       8133        2496\n",
       "Thursday             1894        5302        5130       8322        2605\n",
       "Friday               2072        5017        6107       9417        3699\n",
       "Saturday             3499        3134        6193       6956        3949"
      ]
     },
     "execution_count": 19,
     "metadata": {},
     "output_type": "execute_result"
    }
   ],
   "source": [
    "grouped_bar = new_df.transpose(copy=True)\n",
    "grouped_bar"
   ]
  },
  {
   "cell_type": "code",
   "execution_count": 20,
   "metadata": {},
   "outputs": [
    {
     "data": {
      "image/png": "[encoded data removed]",
      "text/plain": [
       "<Figure size 720x360 with 1 Axes>"
      ]
     },
     "metadata": {},
     "output_type": "display_data"
    }
   ],
   "source": [
    "grouped_bar.plot.bar(figsize = (10, 5))\n",
    "plt.legend(loc='lower left', bbox_to_anchor=(1.04, 0))\n",
    "plt.show()"
   ]
  },
  {
   "cell_type": "code",
   "execution_count": 21,
   "metadata": {},
   "outputs": [
    {
     "data": {
      "text/plain": [
       "Index(['RD_NO', 'CRASH_DATE_EST_I', 'CRASH_DATE', 'POSTED_SPEED_LIMIT',\n",
       "       'TRAFFIC_CONTROL_DEVICE', 'DEVICE_CONDITION', 'WEATHER_CONDITION',\n",
       "       'LIGHTING_CONDITION', 'FIRST_CRASH_TYPE', 'TRAFFICWAY_TYPE', 'LANE_CNT',\n",
       "       'ALIGNMENT', 'ROADWAY_SURFACE_COND', 'ROAD_DEFECT', 'REPORT_TYPE',\n",
       "       'CRASH_TYPE', 'INTERSECTION_RELATED_I', 'HIT_AND_RUN_I', 'DAMAGE',\n",
       "       'PRIM_CONTRIBUTORY_CAUSE', 'SEC_CONTRIBUTORY_CAUSE', 'STREET_NO',\n",
       "       'STREET_DIRECTION', 'STREET_NAME', 'BEAT_OF_OCCURRENCE', 'NUM_UNITS',\n",
       "       'MOST_SEVERE_INJURY', 'INJURIES_TOTAL', 'INJURIES_FATAL', 'CRASH_HOUR',\n",
       "       'CRASH_DAY_OF_WEEK', 'CRASH_MONTH', 'LATITUDE', 'LONGITUDE'],\n",
       "      dtype='object')"
      ]
     },
     "execution_count": 21,
     "metadata": {},
     "output_type": "execute_result"
    }
   ],
   "source": [
    "matt_crashes.columns"
   ]
  },
  {
   "cell_type": "code",
   "execution_count": 46,
   "metadata": {},
   "outputs": [],
   "source": [
    "matt_crashes['CRASH_DATE_STR'] = matt_crashes['CRASH_DATE'].astype(str)\n",
    "matt_crashes['CRASH_DATE'] = pd.to_datetime(matt_crashes['CRASH_DATE'])\n",
    "matt_crashes['CRASH_DATE'] = matt_crashes['CRASH_DATE'].astype(str)\n",
    "matt_crashes['YEAR'] = matt_crashes['CRASH_DATE'].str[:4]\n",
    "matt_crashes['YEAR'].head()\n",
    "by_year_df = matt_crashes[['YEAR', 'CRASH_MONTH']]"
   ]
  },
  {
   "cell_type": "code",
   "execution_count": 47,
   "metadata": {},
   "outputs": [
    {
     "data": {
      "text/html": [
       "<div>\n",
       "<style scoped>\n",
       "    .dataframe tbody tr th:only-of-type {\n",
       "        vertical-align: middle;\n",
       "    }\n",
       "\n",
       "    .dataframe tbody tr th {\n",
       "        vertical-align: top;\n",
       "    }\n",
       "\n",
       "    .dataframe thead th {\n",
       "        text-align: right;\n",
       "    }\n",
       "</style>\n",
       "<table border=\"1\" class=\"dataframe\">\n",
       "  <thead>\n",
       "    <tr style=\"text-align: right;\">\n",
       "      <th></th>\n",
       "      <th>CRASH_MONTH</th>\n",
       "      <th>2017</th>\n",
       "      <th>2014</th>\n",
       "      <th>2015</th>\n",
       "      <th>2016</th>\n",
       "      <th>2018</th>\n",
       "    </tr>\n",
       "  </thead>\n",
       "  <tbody>\n",
       "    <tr>\n",
       "      <th>0</th>\n",
       "      <td>1</td>\n",
       "      <td>3503</td>\n",
       "      <td>0.0</td>\n",
       "      <td>0.0</td>\n",
       "      <td>2387</td>\n",
       "      <td>5955.0</td>\n",
       "    </tr>\n",
       "    <tr>\n",
       "      <th>1</th>\n",
       "      <td>2</td>\n",
       "      <td>3356</td>\n",
       "      <td>0.0</td>\n",
       "      <td>1.0</td>\n",
       "      <td>2198</td>\n",
       "      <td>5325.0</td>\n",
       "    </tr>\n",
       "    <tr>\n",
       "      <th>2</th>\n",
       "      <td>3</td>\n",
       "      <td>4143</td>\n",
       "      <td>0.0</td>\n",
       "      <td>0.0</td>\n",
       "      <td>2449</td>\n",
       "      <td>5772.0</td>\n",
       "    </tr>\n",
       "    <tr>\n",
       "      <th>3</th>\n",
       "      <td>4</td>\n",
       "      <td>4211</td>\n",
       "      <td>0.0</td>\n",
       "      <td>2.0</td>\n",
       "      <td>2395</td>\n",
       "      <td>6140.0</td>\n",
       "    </tr>\n",
       "    <tr>\n",
       "      <th>4</th>\n",
       "      <td>5</td>\n",
       "      <td>4901</td>\n",
       "      <td>0.0</td>\n",
       "      <td>2.0</td>\n",
       "      <td>2583</td>\n",
       "      <td>6584.0</td>\n",
       "    </tr>\n",
       "    <tr>\n",
       "      <th>5</th>\n",
       "      <td>6</td>\n",
       "      <td>5058</td>\n",
       "      <td>0.0</td>\n",
       "      <td>2.0</td>\n",
       "      <td>2332</td>\n",
       "      <td>6593.0</td>\n",
       "    </tr>\n",
       "    <tr>\n",
       "      <th>6</th>\n",
       "      <td>7</td>\n",
       "      <td>5766</td>\n",
       "      <td>0.0</td>\n",
       "      <td>14.0</td>\n",
       "      <td>2738</td>\n",
       "      <td>6184.0</td>\n",
       "    </tr>\n",
       "    <tr>\n",
       "      <th>7</th>\n",
       "      <td>8</td>\n",
       "      <td>5920</td>\n",
       "      <td>2.0</td>\n",
       "      <td>417.0</td>\n",
       "      <td>3661</td>\n",
       "      <td>5946.0</td>\n",
       "    </tr>\n",
       "    <tr>\n",
       "      <th>8</th>\n",
       "      <td>9</td>\n",
       "      <td>5976</td>\n",
       "      <td>0.0</td>\n",
       "      <td>1322.0</td>\n",
       "      <td>3855</td>\n",
       "      <td>5714.0</td>\n",
       "    </tr>\n",
       "    <tr>\n",
       "      <th>9</th>\n",
       "      <td>10</td>\n",
       "      <td>6466</td>\n",
       "      <td>0.0</td>\n",
       "      <td>2494.0</td>\n",
       "      <td>4090</td>\n",
       "      <td>618.0</td>\n",
       "    </tr>\n",
       "    <tr>\n",
       "      <th>10</th>\n",
       "      <td>11</td>\n",
       "      <td>6084</td>\n",
       "      <td>0.0</td>\n",
       "      <td>2250.0</td>\n",
       "      <td>3780</td>\n",
       "      <td>0.0</td>\n",
       "    </tr>\n",
       "    <tr>\n",
       "      <th>11</th>\n",
       "      <td>12</td>\n",
       "      <td>6577</td>\n",
       "      <td>0.0</td>\n",
       "      <td>2145.0</td>\n",
       "      <td>4144</td>\n",
       "      <td>0.0</td>\n",
       "    </tr>\n",
       "  </tbody>\n",
       "</table>\n",
       "</div>"
      ],
      "text/plain": [
       "    CRASH_MONTH  2017  2014    2015  2016    2018\n",
       "0             1  3503   0.0     0.0  2387  5955.0\n",
       "1             2  3356   0.0     1.0  2198  5325.0\n",
       "2             3  4143   0.0     0.0  2449  5772.0\n",
       "3             4  4211   0.0     2.0  2395  6140.0\n",
       "4             5  4901   0.0     2.0  2583  6584.0\n",
       "5             6  5058   0.0     2.0  2332  6593.0\n",
       "6             7  5766   0.0    14.0  2738  6184.0\n",
       "7             8  5920   2.0   417.0  3661  5946.0\n",
       "8             9  5976   0.0  1322.0  3855  5714.0\n",
       "9            10  6466   0.0  2494.0  4090   618.0\n",
       "10           11  6084   0.0  2250.0  3780     0.0\n",
       "11           12  6577   0.0  2145.0  4144     0.0"
      ]
     },
     "execution_count": 47,
     "metadata": {},
     "output_type": "execute_result"
    }
   ],
   "source": [
    "seventeen = by_year_df.loc[by_year_df['YEAR'] == '2017']\n",
    "years = seventeen.groupby('CRASH_MONTH').count().rename(columns={'YEAR': '2017'})\n",
    "fourteen = by_year_df.loc[by_year_df['YEAR'] == '2014']\n",
    "years['2014'] = fourteen.groupby('CRASH_MONTH').count()['YEAR']\n",
    "fifteen = by_year_df.loc[by_year_df['YEAR'] == '2015']\n",
    "years['2015'] = fifteen.groupby('CRASH_MONTH').count()['YEAR']\n",
    "sixteen = by_year_df.loc[by_year_df['YEAR'] == '2016']\n",
    "years['2016'] = sixteen.groupby('CRASH_MONTH').count()['YEAR']\n",
    "seventeen = by_year_df.loc[by_year_df['YEAR'] == '2017']\n",
    "years['2017'] = seventeen.groupby('CRASH_MONTH').count()['YEAR']\n",
    "eighteen = by_year_df.loc[by_year_df['YEAR'] == '2018']\n",
    "years['2018'] = eighteen.groupby('CRASH_MONTH').count()['YEAR']\n",
    "years = years.fillna(0)\n",
    "years.reset_index('CRASH_MONTH', inplace=True)\n",
    "years"
   ]
  },
  {
   "cell_type": "code",
   "execution_count": 48,
   "metadata": {},
   "outputs": [
    {
     "data": {
      "text/html": [
       "<div>\n",
       "<style scoped>\n",
       "    .dataframe tbody tr th:only-of-type {\n",
       "        vertical-align: middle;\n",
       "    }\n",
       "\n",
       "    .dataframe tbody tr th {\n",
       "        vertical-align: top;\n",
       "    }\n",
       "\n",
       "    .dataframe thead th {\n",
       "        text-align: right;\n",
       "    }\n",
       "</style>\n",
       "<table border=\"1\" class=\"dataframe\">\n",
       "  <thead>\n",
       "    <tr style=\"text-align: right;\">\n",
       "      <th></th>\n",
       "      <th>CRASH_MONTH</th>\n",
       "      <th>2014</th>\n",
       "      <th>2015</th>\n",
       "      <th>2016</th>\n",
       "      <th>2017</th>\n",
       "      <th>2018</th>\n",
       "    </tr>\n",
       "  </thead>\n",
       "  <tbody>\n",
       "    <tr>\n",
       "      <th>0</th>\n",
       "      <td>1</td>\n",
       "      <td>0.0</td>\n",
       "      <td>0.0</td>\n",
       "      <td>2387</td>\n",
       "      <td>3503</td>\n",
       "      <td>5955.0</td>\n",
       "    </tr>\n",
       "    <tr>\n",
       "      <th>1</th>\n",
       "      <td>2</td>\n",
       "      <td>0.0</td>\n",
       "      <td>1.0</td>\n",
       "      <td>2198</td>\n",
       "      <td>3356</td>\n",
       "      <td>5325.0</td>\n",
       "    </tr>\n",
       "    <tr>\n",
       "      <th>2</th>\n",
       "      <td>3</td>\n",
       "      <td>0.0</td>\n",
       "      <td>0.0</td>\n",
       "      <td>2449</td>\n",
       "      <td>4143</td>\n",
       "      <td>5772.0</td>\n",
       "    </tr>\n",
       "    <tr>\n",
       "      <th>3</th>\n",
       "      <td>4</td>\n",
       "      <td>0.0</td>\n",
       "      <td>2.0</td>\n",
       "      <td>2395</td>\n",
       "      <td>4211</td>\n",
       "      <td>6140.0</td>\n",
       "    </tr>\n",
       "    <tr>\n",
       "      <th>4</th>\n",
       "      <td>5</td>\n",
       "      <td>0.0</td>\n",
       "      <td>2.0</td>\n",
       "      <td>2583</td>\n",
       "      <td>4901</td>\n",
       "      <td>6584.0</td>\n",
       "    </tr>\n",
       "    <tr>\n",
       "      <th>5</th>\n",
       "      <td>6</td>\n",
       "      <td>0.0</td>\n",
       "      <td>2.0</td>\n",
       "      <td>2332</td>\n",
       "      <td>5058</td>\n",
       "      <td>6593.0</td>\n",
       "    </tr>\n",
       "    <tr>\n",
       "      <th>6</th>\n",
       "      <td>7</td>\n",
       "      <td>0.0</td>\n",
       "      <td>14.0</td>\n",
       "      <td>2738</td>\n",
       "      <td>5766</td>\n",
       "      <td>6184.0</td>\n",
       "    </tr>\n",
       "    <tr>\n",
       "      <th>7</th>\n",
       "      <td>8</td>\n",
       "      <td>2.0</td>\n",
       "      <td>417.0</td>\n",
       "      <td>3661</td>\n",
       "      <td>5920</td>\n",
       "      <td>5946.0</td>\n",
       "    </tr>\n",
       "    <tr>\n",
       "      <th>8</th>\n",
       "      <td>9</td>\n",
       "      <td>0.0</td>\n",
       "      <td>1322.0</td>\n",
       "      <td>3855</td>\n",
       "      <td>5976</td>\n",
       "      <td>5714.0</td>\n",
       "    </tr>\n",
       "    <tr>\n",
       "      <th>9</th>\n",
       "      <td>10</td>\n",
       "      <td>0.0</td>\n",
       "      <td>2494.0</td>\n",
       "      <td>4090</td>\n",
       "      <td>6466</td>\n",
       "      <td>618.0</td>\n",
       "    </tr>\n",
       "    <tr>\n",
       "      <th>10</th>\n",
       "      <td>11</td>\n",
       "      <td>0.0</td>\n",
       "      <td>2250.0</td>\n",
       "      <td>3780</td>\n",
       "      <td>6084</td>\n",
       "      <td>0.0</td>\n",
       "    </tr>\n",
       "    <tr>\n",
       "      <th>11</th>\n",
       "      <td>12</td>\n",
       "      <td>0.0</td>\n",
       "      <td>2145.0</td>\n",
       "      <td>4144</td>\n",
       "      <td>6577</td>\n",
       "      <td>0.0</td>\n",
       "    </tr>\n",
       "  </tbody>\n",
       "</table>\n",
       "</div>"
      ],
      "text/plain": [
       "    CRASH_MONTH  2014    2015  2016  2017    2018\n",
       "0             1   0.0     0.0  2387  3503  5955.0\n",
       "1             2   0.0     1.0  2198  3356  5325.0\n",
       "2             3   0.0     0.0  2449  4143  5772.0\n",
       "3             4   0.0     2.0  2395  4211  6140.0\n",
       "4             5   0.0     2.0  2583  4901  6584.0\n",
       "5             6   0.0     2.0  2332  5058  6593.0\n",
       "6             7   0.0    14.0  2738  5766  6184.0\n",
       "7             8   2.0   417.0  3661  5920  5946.0\n",
       "8             9   0.0  1322.0  3855  5976  5714.0\n",
       "9            10   0.0  2494.0  4090  6466   618.0\n",
       "10           11   0.0  2250.0  3780  6084     0.0\n",
       "11           12   0.0  2145.0  4144  6577     0.0"
      ]
     },
     "execution_count": 48,
     "metadata": {},
     "output_type": "execute_result"
    }
   ],
   "source": [
    "years_to_plot = years[['CRASH_MONTH', '2014', '2015', '2016', '2017', '2018']]\n",
    "years_to_plot"
   ]
  },
  {
   "cell_type": "code",
   "execution_count": 54,
   "metadata": {},
   "outputs": [
    {
     "data": {
      "text/plain": [
       "[13, 14, 15, 16, 17, 18, 19, 20, 21, 22, 23, 24]"
      ]
     },
     "execution_count": 54,
     "metadata": {},
     "output_type": "execute_result"
    }
   ],
   "source": [
    "yr_list_1 = [x + 12 for x in years_to_plot['CRASH_MONTH']]\n",
    "yr_list_1"
   ]
  },
  {
   "cell_type": "code",
   "execution_count": 60,
   "metadata": {},
   "outputs": [
    {
     "data": {
      "text/plain": [
       "[<matplotlib.lines.Line2D at 0x109ad7eb8>]"
      ]
     },
     "execution_count": 60,
     "metadata": {},
     "output_type": "execute_result"
    },
    {
     "data": {
      "image/png": "[encoded data removed]",
      "text/plain": [
       "<Figure size 432x288 with 1 Axes>"
      ]
     },
     "metadata": {},
     "output_type": "display_data"
    }
   ],
   "source": [
    "#x_rng = np.arange(0, 60, 1)\n",
    "#plt.plot(x_rng)\n",
    "plt.plot(years_to_plot['CRASH_MONTH'], years_to_plot['2014'])\n",
    "yr_list = [x + 12 for x in years_to_plot['CRASH_MONTH']]\n",
    "plt.plot(yr_list, years_to_plot['2015'])\n",
    "yr_list = [x + 12 for x in yr_list]\n",
    "plt.plot(yr_list, years_to_plot['2016'])\n",
    "yr_list = [x + 12 for x in yr_list]\n",
    "plt.plot(yr_list, years_to_plot['2017'])\n",
    "yr_list = [x + 12 for x in yr_list]\n",
    "plt.plot(yr_list, years_to_plot['2018'])"
   ]
  },
  {
   "cell_type": "code",
   "execution_count": null,
   "metadata": {},
   "outputs": [],
   "source": [
    "x_ticks(['October, 2015', 'August, 2016', ''])"
   ]
  }
 ],
 "metadata": {
  "kernelspec": {
   "display_name": "Python 3",
   "language": "python",
   "name": "python3"
  },
  "language_info": {
   "codemirror_mode": {
    "name": "ipython",
    "version": 3
   },
   "file_extension": ".py",
   "mimetype": "text/x-python",
   "name": "python",
   "nbconvert_exporter": "python",
   "pygments_lexer": "ipython3",
   "version": "3.6.5"
  }
 },
 "nbformat": 4,
 "nbformat_minor": 2
}
