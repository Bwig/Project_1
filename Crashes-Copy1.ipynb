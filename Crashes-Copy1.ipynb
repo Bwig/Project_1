{
 "cells": [
  {
   "cell_type": "code",
   "execution_count": 10,
   "metadata": {},
   "outputs": [],
   "source": [
    "import pandas as pd"
   ]
  },
  {
   "cell_type": "code",
   "execution_count": 11,
   "metadata": {},
   "outputs": [],
   "source": [
    "crashes_df = pd.read_csv('CHC_Crashes.csv')\n",
    "#crashes_df"
   ]
  },
  {
   "cell_type": "code",
   "execution_count": 12,
   "metadata": {},
   "outputs": [
    {
     "data": {
      "text/plain": [
       "dtype('float64')"
      ]
     },
     "execution_count": 12,
     "metadata": {},
     "output_type": "execute_result"
    }
   ],
   "source": [
    "crashes_df['LANE_CNT'].dtype"
   ]
  },
  {
   "cell_type": "code",
   "execution_count": 13,
   "metadata": {},
   "outputs": [],
   "source": [
    "crashes_1 = crashes_df.loc[(crashes_df['LANE_CNT'] <= 12)]\n",
    "injuries = ['INJURIES_NON_INCAPACITATING', 'INJURIES_REPORTED_NOT_EVIDENT', \n",
    "            'INJURIES_NO_INDICATION', 'INJURIES_UNKNOWN', \n",
    "            'INJURIES_INCAPACITATING', 'PHOTOS_TAKEN_I',\n",
    "            'STATEMENTS_TAKEN_I', 'DOORING_I',\n",
    "            'WORK_ZONE_I', 'WORK_ZONE_TYPE',\n",
    "            'WORKERS_PRESENT_I', 'NOT_RIGHT_OF_WAY_I',\n",
    "            'DATE_POLICE_NOTIFIED', 'LOCATION']\n",
    "\n",
    "for item in injuries:\n",
    "    del crashes_1[item]"
   ]
  },
  {
   "cell_type": "code",
   "execution_count": 14,
   "metadata": {},
   "outputs": [
    {
     "data": {
      "text/plain": [
       "Index(['RD_NO', 'CRASH_DATE_EST_I', 'CRASH_DATE', 'POSTED_SPEED_LIMIT',\n",
       "       'TRAFFIC_CONTROL_DEVICE', 'DEVICE_CONDITION', 'WEATHER_CONDITION',\n",
       "       'LIGHTING_CONDITION', 'FIRST_CRASH_TYPE', 'TRAFFICWAY_TYPE', 'LANE_CNT',\n",
       "       'ALIGNMENT', 'ROADWAY_SURFACE_COND', 'ROAD_DEFECT', 'REPORT_TYPE',\n",
       "       'CRASH_TYPE', 'INTERSECTION_RELATED_I', 'HIT_AND_RUN_I', 'DAMAGE',\n",
       "       'PRIM_CONTRIBUTORY_CAUSE', 'SEC_CONTRIBUTORY_CAUSE', 'STREET_NO',\n",
       "       'STREET_DIRECTION', 'STREET_NAME', 'BEAT_OF_OCCURRENCE', 'NUM_UNITS',\n",
       "       'MOST_SEVERE_INJURY', 'INJURIES_TOTAL', 'INJURIES_FATAL', 'CRASH_HOUR',\n",
       "       'CRASH_DAY_OF_WEEK', 'CRASH_MONTH', 'LATITUDE', 'LONGITUDE'],\n",
       "      dtype='object')"
      ]
     },
     "execution_count": 14,
     "metadata": {},
     "output_type": "execute_result"
    }
   ],
   "source": [
    "crashes_1.columns"
   ]
  },
  {
   "cell_type": "code",
   "execution_count": 15,
   "metadata": {},
   "outputs": [
    {
     "data": {
      "text/plain": [
       "6    26312\n",
       "7    23731\n",
       "3    23566\n",
       "4    23410\n",
       "5    23253\n",
       "2    22600\n",
       "1    19183\n",
       "Name: CRASH_DAY_OF_WEEK, dtype: int64"
      ]
     },
     "execution_count": 15,
     "metadata": {},
     "output_type": "execute_result"
    }
   ],
   "source": [
    "crashes_1['CRASH_DAY_OF_WEEK'].value_counts()"
   ]
  },
  {
   "cell_type": "code",
   "execution_count": 16,
   "metadata": {},
   "outputs": [
    {
     "data": {
      "text/plain": [
       "WEATHER_CONDITION\n",
       "CLEAR                     130348\n",
       "CLOUDY/OVERCAST             4764\n",
       "FOG/SMOKE/HAZE               293\n",
       "OTHER                        440\n",
       "RAIN                       14660\n",
       "SEVERE CROSS WIND GATE        35\n",
       "SLEET/HAIL                   208\n",
       "SNOW                        4870\n",
       "UNKNOWN                     6437\n",
       "Name: RD_NO, dtype: int64"
      ]
     },
     "execution_count": 16,
     "metadata": {},
     "output_type": "execute_result"
    }
   ],
   "source": [
    "weather = crashes_1.groupby(['WEATHER_CONDITION']).count()[\"RD_NO\"]\n",
    "weather"
   ]
  },
  {
   "cell_type": "code",
   "execution_count": 17,
   "metadata": {},
   "outputs": [
    {
     "data": {
      "text/plain": [
       "162055"
      ]
     },
     "execution_count": 17,
     "metadata": {},
     "output_type": "execute_result"
    }
   ],
   "source": [
    "crashes_num = len(crashes_1[\"RD_NO\"].value_counts())\n",
    "crashes_num\n",
    "#weather_pct = weather / \"RD_NO\" * 100"
   ]
  },
  {
   "cell_type": "code",
   "execution_count": 18,
   "metadata": {},
   "outputs": [
    {
     "data": {
      "text/plain": [
       "WEATHER_CONDITION\n",
       "CLEAR                     80.434420\n",
       "CLOUDY/OVERCAST            2.939743\n",
       "FOG/SMOKE/HAZE             0.180803\n",
       "OTHER                      0.271513\n",
       "RAIN                       9.046311\n",
       "SEVERE CROSS WIND GATE     0.021598\n",
       "SLEET/HAIL                 0.128351\n",
       "SNOW                       3.005153\n",
       "UNKNOWN                    3.972108\n",
       "Name: RD_NO, dtype: float64"
      ]
     },
     "execution_count": 18,
     "metadata": {},
     "output_type": "execute_result"
    }
   ],
   "source": [
    "weather_pct = weather / crashes_num * 100\n",
    "weather_pct"
   ]
  },
  {
   "cell_type": "code",
   "execution_count": 19,
   "metadata": {},
   "outputs": [
    {
     "data": {
      "text/plain": [
       "LIGHTING_CONDITION\n",
       "DARKNESS                    7738\n",
       "DARKNESS, LIGHTED ROAD     34033\n",
       "DAWN                        2501\n",
       "DAYLIGHT                  107399\n",
       "DUSK                        4838\n",
       "UNKNOWN                     5546\n",
       "Name: RD_NO, dtype: int64"
      ]
     },
     "execution_count": 19,
     "metadata": {},
     "output_type": "execute_result"
    }
   ],
   "source": [
    "lighting = crashes_1.groupby(['LIGHTING_CONDITION']).count()[\"RD_NO\"]\n",
    "lighting"
   ]
  },
  {
   "cell_type": "code",
   "execution_count": 20,
   "metadata": {},
   "outputs": [
    {
     "data": {
      "text/plain": [
       "LIGHTING_CONDITION\n",
       "DARKNESS                   4.774922\n",
       "DARKNESS, LIGHTED ROAD    21.000895\n",
       "DAWN                       1.543303\n",
       "DAYLIGHT                  66.273179\n",
       "DUSK                       2.985406\n",
       "UNKNOWN                    3.422295\n",
       "Name: RD_NO, dtype: float64"
      ]
     },
     "execution_count": 20,
     "metadata": {},
     "output_type": "execute_result"
    }
   ],
   "source": [
    "lighting_pct = lighting / crashes_num * 100\n",
    "lighting_pct"
   ]
  },
  {
   "cell_type": "code",
   "execution_count": 21,
   "metadata": {},
   "outputs": [
    {
     "data": {
      "text/plain": [
       "FIRST_CRASH_TYPE\n",
       "ANGLE                           16778\n",
       "ANIMAL                            107\n",
       "FIXED OBJECT                     6298\n",
       "HEAD ON                          1471\n",
       "OTHER NONCOLLISION                569\n",
       "OTHER OBJECT                     1247\n",
       "OVERTURNED                         80\n",
       "PARKED MOTOR VEHICLE            34510\n",
       "PEDALCYCLIST                     2494\n",
       "PEDESTRIAN                       3488\n",
       "REAR END                        42314\n",
       "SIDESWIPE OPPOSITE DIRECTION     2412\n",
       "SIDESWIPE SAME DIRECTION        27495\n",
       "TRAIN                               7\n",
       "TURNING                         22785\n",
       "Name: RD_NO, dtype: int64"
      ]
     },
     "execution_count": 21,
     "metadata": {},
     "output_type": "execute_result"
    }
   ],
   "source": [
    "crash_type = crashes_1.groupby(['FIRST_CRASH_TYPE']).count()[\"RD_NO\"]\n",
    "crash_type"
   ]
  },
  {
   "cell_type": "code",
   "execution_count": 22,
   "metadata": {},
   "outputs": [
    {
     "data": {
      "text/plain": [
       "FIRST_CRASH_TYPE\n",
       "ANGLE                           10.353275\n",
       "ANIMAL                           0.066027\n",
       "FIXED OBJECT                     3.886335\n",
       "HEAD ON                          0.907717\n",
       "OTHER NONCOLLISION               0.351115\n",
       "OTHER OBJECT                     0.769492\n",
       "OVERTURNED                       0.049366\n",
       "PARKED MOTOR VEHICLE            21.295239\n",
       "PEDALCYCLIST                     1.538984\n",
       "PEDESTRIAN                       2.152356\n",
       "REAR END                        26.110888\n",
       "SIDESWIPE OPPOSITE DIRECTION     1.488384\n",
       "SIDESWIPE SAME DIRECTION        16.966462\n",
       "TRAIN                            0.004320\n",
       "TURNING                         14.060041\n",
       "Name: RD_NO, dtype: float64"
      ]
     },
     "execution_count": 22,
     "metadata": {},
     "output_type": "execute_result"
    }
   ],
   "source": [
    "crash_type_pct = crash_type / crashes_num * 100\n",
    "crash_type_pct"
   ]
  },
  {
   "cell_type": "code",
   "execution_count": 25,
   "metadata": {},
   "outputs": [],
   "source": [
    "import gmaps\n",
    "\n",
    "# Google developer API key\n",
    "from config import gkey\n",
    "\n",
    "# Access maps with unique API key\n",
    "gmaps.configure(api_key=gkey)"
   ]
  },
  {
   "cell_type": "code",
   "execution_count": 40,
   "metadata": {},
   "outputs": [
    {
     "data": {
      "text/html": [
       "<div>\n",
       "<style scoped>\n",
       "    .dataframe tbody tr th:only-of-type {\n",
       "        vertical-align: middle;\n",
       "    }\n",
       "\n",
       "    .dataframe tbody tr th {\n",
       "        vertical-align: top;\n",
       "    }\n",
       "\n",
       "    .dataframe thead th {\n",
       "        text-align: right;\n",
       "    }\n",
       "</style>\n",
       "<table border=\"1\" class=\"dataframe\">\n",
       "  <thead>\n",
       "    <tr style=\"text-align: right;\">\n",
       "      <th></th>\n",
       "      <th>RD_NO</th>\n",
       "      <th>CRASH_DATE_EST_I</th>\n",
       "      <th>CRASH_DATE</th>\n",
       "      <th>POSTED_SPEED_LIMIT</th>\n",
       "      <th>TRAFFIC_CONTROL_DEVICE</th>\n",
       "      <th>DEVICE_CONDITION</th>\n",
       "      <th>WEATHER_CONDITION</th>\n",
       "      <th>LIGHTING_CONDITION</th>\n",
       "      <th>FIRST_CRASH_TYPE</th>\n",
       "      <th>TRAFFICWAY_TYPE</th>\n",
       "      <th>...</th>\n",
       "      <th>BEAT_OF_OCCURRENCE</th>\n",
       "      <th>NUM_UNITS</th>\n",
       "      <th>MOST_SEVERE_INJURY</th>\n",
       "      <th>INJURIES_TOTAL</th>\n",
       "      <th>INJURIES_FATAL</th>\n",
       "      <th>CRASH_HOUR</th>\n",
       "      <th>CRASH_DAY_OF_WEEK</th>\n",
       "      <th>CRASH_MONTH</th>\n",
       "      <th>LATITUDE</th>\n",
       "      <th>LONGITUDE</th>\n",
       "    </tr>\n",
       "  </thead>\n",
       "  <tbody>\n",
       "    <tr>\n",
       "      <th>548</th>\n",
       "      <td>JB459994</td>\n",
       "      <td>Y</td>\n",
       "      <td>10/02/2018 05:00:00 PM</td>\n",
       "      <td>30</td>\n",
       "      <td>STOP SIGN/FLASHER</td>\n",
       "      <td>FUNCTIONING PROPERLY</td>\n",
       "      <td>CLEAR</td>\n",
       "      <td>DAYLIGHT</td>\n",
       "      <td>PARKED MOTOR VEHICLE</td>\n",
       "      <td>DIVIDED - W/MEDIAN (NOT RAISED)</td>\n",
       "      <td>...</td>\n",
       "      <td>922.0</td>\n",
       "      <td>2.0</td>\n",
       "      <td>NO INDICATION OF INJURY</td>\n",
       "      <td>0.0</td>\n",
       "      <td>0.0</td>\n",
       "      <td>17</td>\n",
       "      <td>3</td>\n",
       "      <td>10</td>\n",
       "      <td>41.813580</td>\n",
       "      <td>-87.696883</td>\n",
       "    </tr>\n",
       "    <tr>\n",
       "      <th>1162</th>\n",
       "      <td>JB457119</td>\n",
       "      <td>Y</td>\n",
       "      <td>09/30/2018 03:24:00 PM</td>\n",
       "      <td>30</td>\n",
       "      <td>TRAFFIC SIGNAL</td>\n",
       "      <td>FUNCTIONING PROPERLY</td>\n",
       "      <td>CLEAR</td>\n",
       "      <td>DAYLIGHT</td>\n",
       "      <td>ANGLE</td>\n",
       "      <td>NOT DIVIDED</td>\n",
       "      <td>...</td>\n",
       "      <td>733.0</td>\n",
       "      <td>4.0</td>\n",
       "      <td>NONINCAPACITATING INJURY</td>\n",
       "      <td>9.0</td>\n",
       "      <td>0.0</td>\n",
       "      <td>15</td>\n",
       "      <td>1</td>\n",
       "      <td>9</td>\n",
       "      <td>41.765109</td>\n",
       "      <td>-87.644557</td>\n",
       "    </tr>\n",
       "    <tr>\n",
       "      <th>1318</th>\n",
       "      <td>JB456396</td>\n",
       "      <td>N</td>\n",
       "      <td>09/29/2018 11:20:00 PM</td>\n",
       "      <td>30</td>\n",
       "      <td>TRAFFIC SIGNAL</td>\n",
       "      <td>FUNCTIONING PROPERLY</td>\n",
       "      <td>CLEAR</td>\n",
       "      <td>DARKNESS, LIGHTED ROAD</td>\n",
       "      <td>REAR END</td>\n",
       "      <td>NOT DIVIDED</td>\n",
       "      <td>...</td>\n",
       "      <td>414.0</td>\n",
       "      <td>2.0</td>\n",
       "      <td>NO INDICATION OF INJURY</td>\n",
       "      <td>0.0</td>\n",
       "      <td>0.0</td>\n",
       "      <td>23</td>\n",
       "      <td>7</td>\n",
       "      <td>9</td>\n",
       "      <td>41.756967</td>\n",
       "      <td>-87.576248</td>\n",
       "    </tr>\n",
       "    <tr>\n",
       "      <th>2313</th>\n",
       "      <td>JB452554</td>\n",
       "      <td>N</td>\n",
       "      <td>09/27/2018 04:00:00 AM</td>\n",
       "      <td>30</td>\n",
       "      <td>STOP SIGN/FLASHER</td>\n",
       "      <td>FUNCTIONING IMPROPERLY</td>\n",
       "      <td>CLEAR</td>\n",
       "      <td>DARKNESS, LIGHTED ROAD</td>\n",
       "      <td>REAR END</td>\n",
       "      <td>ONE-WAY</td>\n",
       "      <td>...</td>\n",
       "      <td>1533.0</td>\n",
       "      <td>2.0</td>\n",
       "      <td>REPORTED, NOT EVIDENT</td>\n",
       "      <td>1.0</td>\n",
       "      <td>0.0</td>\n",
       "      <td>4</td>\n",
       "      <td>5</td>\n",
       "      <td>9</td>\n",
       "      <td>41.873902</td>\n",
       "      <td>-87.749324</td>\n",
       "    </tr>\n",
       "    <tr>\n",
       "      <th>2337</th>\n",
       "      <td>JB452381</td>\n",
       "      <td>Y</td>\n",
       "      <td>09/26/2018 10:00:00 PM</td>\n",
       "      <td>30</td>\n",
       "      <td>TRAFFIC SIGNAL</td>\n",
       "      <td>FUNCTIONING PROPERLY</td>\n",
       "      <td>CLEAR</td>\n",
       "      <td>DARKNESS, LIGHTED ROAD</td>\n",
       "      <td>TURNING</td>\n",
       "      <td>DIVIDED - W/MEDIAN (NOT RAISED)</td>\n",
       "      <td>...</td>\n",
       "      <td>623.0</td>\n",
       "      <td>2.0</td>\n",
       "      <td>NO INDICATION OF INJURY</td>\n",
       "      <td>0.0</td>\n",
       "      <td>0.0</td>\n",
       "      <td>22</td>\n",
       "      <td>4</td>\n",
       "      <td>9</td>\n",
       "      <td>41.751072</td>\n",
       "      <td>-87.624472</td>\n",
       "    </tr>\n",
       "  </tbody>\n",
       "</table>\n",
       "<p>5 rows × 34 columns</p>\n",
       "</div>"
      ],
      "text/plain": [
       "         RD_NO CRASH_DATE_EST_I              CRASH_DATE  POSTED_SPEED_LIMIT  \\\n",
       "548   JB459994                Y  10/02/2018 05:00:00 PM                  30   \n",
       "1162  JB457119                Y  09/30/2018 03:24:00 PM                  30   \n",
       "1318  JB456396                N  09/29/2018 11:20:00 PM                  30   \n",
       "2313  JB452554                N  09/27/2018 04:00:00 AM                  30   \n",
       "2337  JB452381                Y  09/26/2018 10:00:00 PM                  30   \n",
       "\n",
       "     TRAFFIC_CONTROL_DEVICE        DEVICE_CONDITION WEATHER_CONDITION  \\\n",
       "548       STOP SIGN/FLASHER    FUNCTIONING PROPERLY             CLEAR   \n",
       "1162         TRAFFIC SIGNAL    FUNCTIONING PROPERLY             CLEAR   \n",
       "1318         TRAFFIC SIGNAL    FUNCTIONING PROPERLY             CLEAR   \n",
       "2313      STOP SIGN/FLASHER  FUNCTIONING IMPROPERLY             CLEAR   \n",
       "2337         TRAFFIC SIGNAL    FUNCTIONING PROPERLY             CLEAR   \n",
       "\n",
       "          LIGHTING_CONDITION      FIRST_CRASH_TYPE  \\\n",
       "548                 DAYLIGHT  PARKED MOTOR VEHICLE   \n",
       "1162                DAYLIGHT                 ANGLE   \n",
       "1318  DARKNESS, LIGHTED ROAD              REAR END   \n",
       "2313  DARKNESS, LIGHTED ROAD              REAR END   \n",
       "2337  DARKNESS, LIGHTED ROAD               TURNING   \n",
       "\n",
       "                      TRAFFICWAY_TYPE    ...      BEAT_OF_OCCURRENCE  \\\n",
       "548   DIVIDED - W/MEDIAN (NOT RAISED)    ...                   922.0   \n",
       "1162                      NOT DIVIDED    ...                   733.0   \n",
       "1318                      NOT DIVIDED    ...                   414.0   \n",
       "2313                          ONE-WAY    ...                  1533.0   \n",
       "2337  DIVIDED - W/MEDIAN (NOT RAISED)    ...                   623.0   \n",
       "\n",
       "     NUM_UNITS        MOST_SEVERE_INJURY INJURIES_TOTAL INJURIES_FATAL  \\\n",
       "548        2.0   NO INDICATION OF INJURY            0.0            0.0   \n",
       "1162       4.0  NONINCAPACITATING INJURY            9.0            0.0   \n",
       "1318       2.0   NO INDICATION OF INJURY            0.0            0.0   \n",
       "2313       2.0     REPORTED, NOT EVIDENT            1.0            0.0   \n",
       "2337       2.0   NO INDICATION OF INJURY            0.0            0.0   \n",
       "\n",
       "     CRASH_HOUR CRASH_DAY_OF_WEEK CRASH_MONTH   LATITUDE  LONGITUDE  \n",
       "548          17                 3          10  41.813580 -87.696883  \n",
       "1162         15                 1           9  41.765109 -87.644557  \n",
       "1318         23                 7           9  41.756967 -87.576248  \n",
       "2313          4                 5           9  41.873902 -87.749324  \n",
       "2337         22                 4           9  41.751072 -87.624472  \n",
       "\n",
       "[5 rows x 34 columns]"
      ]
     },
     "execution_count": 40,
     "metadata": {},
     "output_type": "execute_result"
    }
   ],
   "source": [
    "crashes_2 = crashes_1.dropna()\n",
    "crashes_2.head()"
   ]
  },
  {
   "cell_type": "code",
   "execution_count": 41,
   "metadata": {},
   "outputs": [],
   "source": [
    "# Store latitude and longitude in locations\n",
    "\n",
    "locations = crashes_2[[\"LATITUDE\",\"LONGITUDE\"]]\n"
   ]
  },
  {
   "cell_type": "code",
   "execution_count": 42,
   "metadata": {},
   "outputs": [],
   "source": [
    "# Customize the size of the figure. Below in the curlies is CSS, makes it pretty\n",
    "figure_layout = {\n",
    "    'width': '800px',\n",
    "    'height': '400px',\n",
    "    'border': '1px solid black',\n",
    "    'padding': '1px',\n",
    "    'margin': '0 auto 0 auto'\n",
    "}\n",
    "fig = gmaps.figure(layout=figure_layout)"
   ]
  },
  {
   "cell_type": "code",
   "execution_count": 43,
   "metadata": {},
   "outputs": [
    {
     "data": {
      "application/vnd.jupyter.widget-view+json": {
       "model_id": "ccdf03a379d54454a34e1afb39f2b430",
       "version_major": 2,
       "version_minor": 0
      },
      "text/plain": [
       "Figure(layout=FigureLayout(border='1px solid black', height='400px', margin='0 auto 0 auto', padding='1px', wi…"
      ]
     },
     "metadata": {},
     "output_type": "display_data"
    }
   ],
   "source": [
    "# Assign the marker layer to a variable\n",
    "markers = gmaps.marker_layer(locations)\n",
    "# Add the layer to the map\n",
    "fig.add_layer(markers)\n",
    "fig"
   ]
  },
  {
   "cell_type": "code",
   "execution_count": null,
   "metadata": {},
   "outputs": [],
   "source": []
  }
 ],
 "metadata": {
  "kernelspec": {
   "display_name": "Python 3",
   "language": "python",
   "name": "python3"
  },
  "language_info": {
   "codemirror_mode": {
    "name": "ipython",
    "version": 3
   },
   "file_extension": ".py",
   "mimetype": "text/x-python",
   "name": "python",
   "nbconvert_exporter": "python",
   "pygments_lexer": "ipython3",
   "version": "3.6.6"
  }
 },
 "nbformat": 4,
 "nbformat_minor": 2
}
