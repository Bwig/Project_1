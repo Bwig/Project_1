{
 "cells": [
  {
   "cell_type": "markdown",
   "metadata": {},
   "source": [
    "# Analysis\n",
    "\n",
    "## Questions\n",
    "\n",
    "### Are crashes in Chicago more prevalent on a certain day of the week?\n",
    "\n",
    "We noticed several columns in this dataset were related to time. We decided to examine whether or not crashes were more common on any given day of the week. Perhaps more crashes happen on weekdays as opposed to weekends? Below is our exploration of traffic accidents in relation to days of the week."
   ]
  },
  {
   "cell_type": "code",
   "execution_count": 15,
   "metadata": {},
   "outputs": [],
   "source": [
    "# Import dependencies\n",
    "import gmaps\n",
    "import pandas as pd\n",
    "import os\n",
    "import warnings\n",
    "import matplotlib.pyplot as plt\n",
    "import numpy as np\n",
    "import seaborn as sns\n",
    "from config import gkey"
   ]
  },
  {
   "cell_type": "code",
   "execution_count": 2,
   "metadata": {},
   "outputs": [],
   "source": [
    "# Convert the CSV created from our 'cleanup' phase to a dataframe.\n",
    "df_crashes = pd.read_csv('Output/Crashes.csv')\n",
    "warnings.filterwarnings('ignore')\n",
    "# Brief bit of additional cleanup\n",
    "del df_crashes['Unnamed: 0']"
   ]
  },
  {
   "cell_type": "markdown",
   "metadata": {},
   "source": [
    "#### I decided to create a different dataframe for each day of the week..."
   ]
  },
  {
   "cell_type": "code",
   "execution_count": 3,
   "metadata": {},
   "outputs": [],
   "source": [
    "sunday = df_crashes.loc[df_crashes['CRASH_DAY_OF_WEEK'] == 1, ['CRASH_HOUR']]\n",
    "monday = df_crashes.loc[df_crashes['CRASH_DAY_OF_WEEK'] == 2, ['CRASH_HOUR']]\n",
    "tuesday = df_crashes.loc[df_crashes['CRASH_DAY_OF_WEEK'] == 3, ['CRASH_HOUR']]\n",
    "wednesday = df_crashes.loc[df_crashes['CRASH_DAY_OF_WEEK'] == 4, ['CRASH_HOUR']]\n",
    "thursday = df_crashes.loc[df_crashes['CRASH_DAY_OF_WEEK'] == 5, ['CRASH_HOUR']]\n",
    "friday = df_crashes.loc[df_crashes['CRASH_DAY_OF_WEEK'] == 6, ['CRASH_HOUR']]\n",
    "saturday = df_crashes.loc[df_crashes['CRASH_DAY_OF_WEEK'] == 7, ['CRASH_HOUR']]"
   ]
  },
  {
   "cell_type": "markdown",
   "metadata": {},
   "source": [
    "#### ...and then append the lengths to one long list to feed into a plot"
   ]
  },
  {
   "cell_type": "code",
   "execution_count": 4,
   "metadata": {},
   "outputs": [],
   "source": [
    "day_list = []\n",
    "day_list.append(len(sunday['CRASH_HOUR']))\n",
    "day_list.append(len(monday['CRASH_HOUR']))\n",
    "day_list.append(len(tuesday['CRASH_HOUR']))\n",
    "day_list.append(len(wednesday['CRASH_HOUR']))\n",
    "day_list.append(len(thursday['CRASH_HOUR']))\n",
    "day_list.append(len(friday['CRASH_HOUR']))\n",
    "day_list.append(len(saturday['CRASH_HOUR']))"
   ]
  },
  {
   "cell_type": "markdown",
   "metadata": {},
   "source": [
    "#### From here I build the plot - I want it to show each day on the x-axis and the number of crashes that occurred on that day on the y-axis."
   ]
  },
  {
   "cell_type": "code",
   "execution_count": 5,
   "metadata": {},
   "outputs": [
    {
     "data": {
      "image/png": "[encoded data removed]",
      "text/plain": [
       "<Figure size 432x288 with 1 Axes>"
      ]
     },
     "metadata": {},
     "output_type": "display_data"
    }
   ],
   "source": [
    "week = ['Sunday', 'Monday', 'Tuesday', 'Wednesday', 'Thursday', 'Friday', 'Saturday']\n",
    "color = ['navy', 'sienna', 'seagreen', 'darkorange', 'cornflowerblue', 'lightcoral', 'moccasin']\n",
    "plt.bar(week, day_list, width=0.35, color=color)\n",
    "plt.ylabel('# of Accidents')\n",
    "plt.xlabel('Day')\n",
    "plt.xticks(rotation=45)\n",
    "plt.title('Number of Crashes by Day of Ocurrence')\n",
    "plt.show()"
   ]
  },
  {
   "cell_type": "markdown",
   "metadata": {},
   "source": [
    "## Does this really tell us anything?\n",
    "\n",
    "#### We can conclude that we have an even distribution by days of the week\n",
    "It looks like Sunday has a slightly lower amount of crashes while Friday has the most. Overall, just from this preliminary analysis, we don't necessarily see a spike in the number of crashes by day of the week. Weekdays aside from Friday look extremely similar in terms of the number of accidents. The number of incidents do not appear to drop significantly over the weekend as we initially thought."
   ]
  },
  {
   "cell_type": "markdown",
   "metadata": {},
   "source": [
    "## Ok, so there's a fairly even distribution by days of the week. What about time of day?\n",
    "\n",
    "### Is there a certain timeframe where accidents are more common on each day of the week?\n",
    "\n",
    "Let's take a closer look at when traffic incidents happen on each day of the week. We might hypothesize that since there are more cars on the road during morning and afternoon rush hour traffic, that accidents will be more likely. Do a lot of accidents happen late at night? What about lunch time? Our dataset can tell us this."
   ]
  },
  {
   "cell_type": "markdown",
   "metadata": {},
   "source": [
    "#### Let's create a new dataframe and use binning to group times of day"
   ]
  },
  {
   "cell_type": "code",
   "execution_count": 6,
   "metadata": {},
   "outputs": [],
   "source": [
    "crash_hours = pd.DataFrame(df_crashes[['CRASH_DAY_OF_WEEK', 'CRASH_HOUR']])\n",
    "hrs = [-1, 6, 10, 14, 19, 23]\n",
    "groups = ['Midnight - 6AM', '7AM - 10AM', '11AM - 2PM', '3PM - 7PM', '8PM - 11PM']\n",
    "crash_hours['Hours'] = pd.cut(crash_hours['CRASH_HOUR'], bins=hrs, labels=groups)\n",
    "crash_hours = crash_hours.groupby('CRASH_DAY_OF_WEEK')"
   ]
  },
  {
   "cell_type": "markdown",
   "metadata": {},
   "source": [
    "#### For each day of the week I want to apply the bins I created"
   ]
  },
  {
   "cell_type": "code",
   "execution_count": 7,
   "metadata": {},
   "outputs": [],
   "source": [
    "sunday['CAT'] = pd.cut(sunday['CRASH_HOUR'], bins=hrs, labels=groups)\n",
    "sunday_grouped = sunday.groupby('CAT')\n",
    "sun_list = sunday_grouped['CRASH_HOUR'].count().tolist()\n",
    "monday['CAT'] = pd.cut(monday['CRASH_HOUR'], bins=hrs, labels=groups)\n",
    "monday_grouped = monday.groupby('CAT')\n",
    "mon_list = monday_grouped['CRASH_HOUR'].count().tolist()\n",
    "tuesday['CAT'] = pd.cut(tuesday['CRASH_HOUR'], bins=hrs, labels=groups)\n",
    "tuesday_grouped = tuesday.groupby('CAT')\n",
    "tues_list = tuesday_grouped['CRASH_HOUR'].count().tolist()\n",
    "wednesday['CAT'] = pd.cut(wednesday['CRASH_HOUR'], bins=hrs, labels=groups)\n",
    "wednesday_grouped = wednesday.groupby('CAT')\n",
    "wed_list = wednesday_grouped['CRASH_HOUR'].count().tolist()\n",
    "thursday['CAT'] = pd.cut(thursday['CRASH_HOUR'], bins=hrs, labels=groups)\n",
    "thursday_grouped = thursday.groupby('CAT')\n",
    "thurs_list = thursday_grouped['CRASH_HOUR'].count().tolist()\n",
    "friday['CAT'] = pd.cut(friday['CRASH_HOUR'], bins=hrs, labels=groups)\n",
    "friday_grouped = friday.groupby('CAT')\n",
    "fri_list = friday_grouped['CRASH_HOUR'].count().tolist()\n",
    "saturday['CAT'] = pd.cut(saturday['CRASH_HOUR'], bins=hrs, labels=groups)\n",
    "saturday_grouped = saturday.groupby('CAT')\n",
    "sat_list = saturday_grouped['CRASH_HOUR'].count().tolist()"
   ]
  },
  {
   "cell_type": "markdown",
   "metadata": {},
   "source": [
    "#### Create another new dataframe from all the grouped lists that were created by count of accident by timeframe by day."
   ]
  },
  {
   "cell_type": "code",
   "execution_count": 8,
   "metadata": {},
   "outputs": [
    {
     "data": {
      "text/html": [
       "<div>\n",
       "<style scoped>\n",
       "    .dataframe tbody tr th:only-of-type {\n",
       "        vertical-align: middle;\n",
       "    }\n",
       "\n",
       "    .dataframe tbody tr th {\n",
       "        vertical-align: top;\n",
       "    }\n",
       "\n",
       "    .dataframe thead th {\n",
       "        text-align: right;\n",
       "    }\n",
       "</style>\n",
       "<table border=\"1\" class=\"dataframe\">\n",
       "  <thead>\n",
       "    <tr style=\"text-align: right;\">\n",
       "      <th></th>\n",
       "      <th>Sunday</th>\n",
       "      <th>Monday</th>\n",
       "      <th>Tuesday</th>\n",
       "      <th>Wednesday</th>\n",
       "      <th>Thursday</th>\n",
       "      <th>Friday</th>\n",
       "      <th>Saturday</th>\n",
       "    </tr>\n",
       "    <tr>\n",
       "      <th>Category</th>\n",
       "      <th></th>\n",
       "      <th></th>\n",
       "      <th></th>\n",
       "      <th></th>\n",
       "      <th></th>\n",
       "      <th></th>\n",
       "      <th></th>\n",
       "    </tr>\n",
       "  </thead>\n",
       "  <tbody>\n",
       "    <tr>\n",
       "      <th>Midnight - 6AM</th>\n",
       "      <td>4468</td>\n",
       "      <td>2268</td>\n",
       "      <td>1821</td>\n",
       "      <td>1817</td>\n",
       "      <td>1894</td>\n",
       "      <td>2072</td>\n",
       "      <td>3499</td>\n",
       "    </tr>\n",
       "    <tr>\n",
       "      <th>7AM - 10AM</th>\n",
       "      <td>2210</td>\n",
       "      <td>5246</td>\n",
       "      <td>5597</td>\n",
       "      <td>5611</td>\n",
       "      <td>5302</td>\n",
       "      <td>5017</td>\n",
       "      <td>3134</td>\n",
       "    </tr>\n",
       "    <tr>\n",
       "      <th>11AM - 2PM</th>\n",
       "      <td>4626</td>\n",
       "      <td>5132</td>\n",
       "      <td>5306</td>\n",
       "      <td>5353</td>\n",
       "      <td>5130</td>\n",
       "      <td>6107</td>\n",
       "      <td>6193</td>\n",
       "    </tr>\n",
       "    <tr>\n",
       "      <th>3PM - 7PM</th>\n",
       "      <td>5301</td>\n",
       "      <td>7818</td>\n",
       "      <td>8460</td>\n",
       "      <td>8133</td>\n",
       "      <td>8322</td>\n",
       "      <td>9417</td>\n",
       "      <td>6956</td>\n",
       "    </tr>\n",
       "    <tr>\n",
       "      <th>8PM - 11PM</th>\n",
       "      <td>2578</td>\n",
       "      <td>2136</td>\n",
       "      <td>2382</td>\n",
       "      <td>2496</td>\n",
       "      <td>2605</td>\n",
       "      <td>3699</td>\n",
       "      <td>3949</td>\n",
       "    </tr>\n",
       "  </tbody>\n",
       "</table>\n",
       "</div>"
      ],
      "text/plain": [
       "                Sunday  Monday  Tuesday  Wednesday  Thursday  Friday  Saturday\n",
       "Category                                                                      \n",
       "Midnight - 6AM    4468    2268     1821       1817      1894    2072      3499\n",
       "7AM - 10AM        2210    5246     5597       5611      5302    5017      3134\n",
       "11AM - 2PM        4626    5132     5306       5353      5130    6107      6193\n",
       "3PM - 7PM         5301    7818     8460       8133      8322    9417      6956\n",
       "8PM - 11PM        2578    2136     2382       2496      2605    3699      3949"
      ]
     },
     "execution_count": 8,
     "metadata": {},
     "output_type": "execute_result"
    }
   ],
   "source": [
    "new_df = pd.DataFrame({'Category': ['Midnight - 6AM', '7AM - 10AM', '11AM - 2PM', '3PM - 7PM', '8PM - 11PM'],\n",
    "                       'Sunday': sun_list,\n",
    "                       'Monday': mon_list,\n",
    "                       'Tuesday': tues_list,\n",
    "                       'Wednesday': wed_list,\n",
    "                       'Thursday': thurs_list,\n",
    "                       'Friday': fri_list,\n",
    "                       'Saturday': sat_list\n",
    "                       })\n",
    "new_df.set_index('Category', inplace=True)\n",
    "new_df"
   ]
  },
  {
   "cell_type": "markdown",
   "metadata": {},
   "source": [
    "#### The above dataframe looks like I want it to. It has the count of accidents by timeframe by day of the week. In order to plot it I need to flip it."
   ]
  },
  {
   "cell_type": "code",
   "execution_count": 9,
   "metadata": {},
   "outputs": [
    {
     "data": {
      "text/html": [
       "<div>\n",
       "<style scoped>\n",
       "    .dataframe tbody tr th:only-of-type {\n",
       "        vertical-align: middle;\n",
       "    }\n",
       "\n",
       "    .dataframe tbody tr th {\n",
       "        vertical-align: top;\n",
       "    }\n",
       "\n",
       "    .dataframe thead th {\n",
       "        text-align: right;\n",
       "    }\n",
       "</style>\n",
       "<table border=\"1\" class=\"dataframe\">\n",
       "  <thead>\n",
       "    <tr style=\"text-align: right;\">\n",
       "      <th>Category</th>\n",
       "      <th>Midnight - 6AM</th>\n",
       "      <th>7AM - 10AM</th>\n",
       "      <th>11AM - 2PM</th>\n",
       "      <th>3PM - 7PM</th>\n",
       "      <th>8PM - 11PM</th>\n",
       "    </tr>\n",
       "  </thead>\n",
       "  <tbody>\n",
       "    <tr>\n",
       "      <th>Sunday</th>\n",
       "      <td>4468</td>\n",
       "      <td>2210</td>\n",
       "      <td>4626</td>\n",
       "      <td>5301</td>\n",
       "      <td>2578</td>\n",
       "    </tr>\n",
       "    <tr>\n",
       "      <th>Monday</th>\n",
       "      <td>2268</td>\n",
       "      <td>5246</td>\n",
       "      <td>5132</td>\n",
       "      <td>7818</td>\n",
       "      <td>2136</td>\n",
       "    </tr>\n",
       "    <tr>\n",
       "      <th>Tuesday</th>\n",
       "      <td>1821</td>\n",
       "      <td>5597</td>\n",
       "      <td>5306</td>\n",
       "      <td>8460</td>\n",
       "      <td>2382</td>\n",
       "    </tr>\n",
       "    <tr>\n",
       "      <th>Wednesday</th>\n",
       "      <td>1817</td>\n",
       "      <td>5611</td>\n",
       "      <td>5353</td>\n",
       "      <td>8133</td>\n",
       "      <td>2496</td>\n",
       "    </tr>\n",
       "    <tr>\n",
       "      <th>Thursday</th>\n",
       "      <td>1894</td>\n",
       "      <td>5302</td>\n",
       "      <td>5130</td>\n",
       "      <td>8322</td>\n",
       "      <td>2605</td>\n",
       "    </tr>\n",
       "    <tr>\n",
       "      <th>Friday</th>\n",
       "      <td>2072</td>\n",
       "      <td>5017</td>\n",
       "      <td>6107</td>\n",
       "      <td>9417</td>\n",
       "      <td>3699</td>\n",
       "    </tr>\n",
       "    <tr>\n",
       "      <th>Saturday</th>\n",
       "      <td>3499</td>\n",
       "      <td>3134</td>\n",
       "      <td>6193</td>\n",
       "      <td>6956</td>\n",
       "      <td>3949</td>\n",
       "    </tr>\n",
       "  </tbody>\n",
       "</table>\n",
       "</div>"
      ],
      "text/plain": [
       "Category   Midnight - 6AM  7AM - 10AM  11AM - 2PM  3PM - 7PM  8PM - 11PM\n",
       "Sunday               4468        2210        4626       5301        2578\n",
       "Monday               2268        5246        5132       7818        2136\n",
       "Tuesday              1821        5597        5306       8460        2382\n",
       "Wednesday            1817        5611        5353       8133        2496\n",
       "Thursday             1894        5302        5130       8322        2605\n",
       "Friday               2072        5017        6107       9417        3699\n",
       "Saturday             3499        3134        6193       6956        3949"
      ]
     },
     "execution_count": 9,
     "metadata": {},
     "output_type": "execute_result"
    }
   ],
   "source": [
    "grouped_bar = new_df.transpose(copy=True)\n",
    "grouped_bar"
   ]
  },
  {
   "cell_type": "markdown",
   "metadata": {},
   "source": [
    "#### Ok - as the name of the variable suggests, I want to make a grouped bar chart from this dataframe. It should show each day of the week grouped into timeframes, and the number of traffic incidents that happened in those timeframes."
   ]
  },
  {
   "cell_type": "code",
   "execution_count": 10,
   "metadata": {},
   "outputs": [
    {
     "data": {
      "image/png": "[encoded data removed]",
      "text/plain": [
       "<Figure size 720x360 with 1 Axes>"
      ]
     },
     "metadata": {},
     "output_type": "display_data"
    }
   ],
   "source": [
    "grouped_bar.plot.bar(figsize = (10, 5))\n",
    "plt.legend(loc='lower left', bbox_to_anchor=(1.04, 0))\n",
    "plt.xlabel('Day of the Week')\n",
    "plt.ylabel('# of Accidents')\n",
    "plt.title('Traffic Accidents by Time of Day')\n",
    "plt.show()"
   ]
  },
  {
   "cell_type": "markdown",
   "metadata": {},
   "source": [
    "## Rush hour really is bad!\n",
    "\n",
    "### We can conclude that the 3:00PM - 7:00PM timeframe is the worst across each day. What else?\n",
    "\n",
    "The number of traffic incidents during afternoon rush hour far outnumber any other timeframe category. This makes sense as it does in any major city. People are leaving work, running errands, getting dinner, fetching children from school more commonly during this time. The morning rush hour doesn't look quite as significant and, on weekdays, is very similar to the lunch rush time frame. \n",
    "\n",
    "Late night/early morning wrecks seem to be the lowest but look to spike in the early hours of Saturday morning (Friday night) and Sunday morning (Saturday night). People tend to stay up and out later during these hours. If more time permitted, it might be interesting to examine known causes of these incidents and to see what percentage of them are possibly alcohol related."
   ]
  },
  {
   "cell_type": "markdown",
   "metadata": {},
   "source": [
    "## The Bigger Picture (Timewise)"
   ]
  },
  {
   "cell_type": "markdown",
   "metadata": {},
   "source": [
    "### What do these numbers look like over the time the data was being collected\n",
    "\n",
    "According to the metadata, all police departments weren't fully contributing to this dataset until 2017. We should expect to see the number of crashes rise during this year. But since we've looked at day and, more specifically, time of day; is there a spike in traffic incidents during certain months? How does one year of this data record-keeping compare to another?"
   ]
  },
  {
   "cell_type": "markdown",
   "metadata": {},
   "source": [
    "#### I want to look at crash count by year and month over time. The best way to do this is a line plot. I need to do some data and string manipulation to extract the year..."
   ]
  },
  {
   "cell_type": "code",
   "execution_count": 11,
   "metadata": {},
   "outputs": [],
   "source": [
    "# Data conversion and string manipulation to create YEAR column\n",
    "df_crashes['CRASH_DATE_STR'] = df_crashes['CRASH_DATE'].astype(str)\n",
    "df_crashes['CRASH_DATE'] = pd.to_datetime(df_crashes['CRASH_DATE'])\n",
    "df_crashes['CRASH_DATE'] = df_crashes['CRASH_DATE'].astype(str)\n",
    "df_crashes['YEAR'] = df_crashes['CRASH_DATE'].str[:4]\n",
    "df_crashes['YEAR'].head()\n",
    "by_year_df = df_crashes[['YEAR', 'CRASH_MONTH']]"
   ]
  },
  {
   "cell_type": "markdown",
   "metadata": {},
   "source": [
    "#### I need to get the count of each accident each month and then group by year"
   ]
  },
  {
   "cell_type": "code",
   "execution_count": 12,
   "metadata": {},
   "outputs": [],
   "source": [
    "# The resulting dataframe of these variables is going to be out of order\n",
    "# This is because we needed to populate it first by a year that had data for\n",
    "# all 12 months.\n",
    "seventeen = by_year_df.loc[by_year_df['YEAR'] == '2017']\n",
    "years = seventeen.groupby('CRASH_MONTH').count().rename(columns={'YEAR': '2017'})\n",
    "fourteen = by_year_df.loc[by_year_df['YEAR'] == '2014']\n",
    "years['2014'] = fourteen.groupby('CRASH_MONTH').count()['YEAR']\n",
    "fifteen = by_year_df.loc[by_year_df['YEAR'] == '2015']\n",
    "years['2015'] = fifteen.groupby('CRASH_MONTH').count()['YEAR']\n",
    "sixteen = by_year_df.loc[by_year_df['YEAR'] == '2016']\n",
    "years['2016'] = sixteen.groupby('CRASH_MONTH').count()['YEAR']\n",
    "seventeen = by_year_df.loc[by_year_df['YEAR'] == '2017']\n",
    "years['2017'] = seventeen.groupby('CRASH_MONTH').count()['YEAR']\n",
    "eighteen = by_year_df.loc[by_year_df['YEAR'] == '2018']\n",
    "years['2018'] = eighteen.groupby('CRASH_MONTH').count()['YEAR']\n",
    "years = years.fillna(0)\n",
    "years.reset_index('CRASH_MONTH', inplace=True)"
   ]
  },
  {
   "cell_type": "markdown",
   "metadata": {},
   "source": [
    "#### The resulting dataframe below can be used to build our line plot. It's also a pretty good visual tabular reference to examine what is going on with crash data across each year the data was collected."
   ]
  },
  {
   "cell_type": "code",
   "execution_count": 13,
   "metadata": {},
   "outputs": [
    {
     "data": {
      "text/html": [
       "<div>\n",
       "<style scoped>\n",
       "    .dataframe tbody tr th:only-of-type {\n",
       "        vertical-align: middle;\n",
       "    }\n",
       "\n",
       "    .dataframe tbody tr th {\n",
       "        vertical-align: top;\n",
       "    }\n",
       "\n",
       "    .dataframe thead th {\n",
       "        text-align: right;\n",
       "    }\n",
       "</style>\n",
       "<table border=\"1\" class=\"dataframe\">\n",
       "  <thead>\n",
       "    <tr style=\"text-align: right;\">\n",
       "      <th></th>\n",
       "      <th>CRASH_MONTH</th>\n",
       "      <th>2014</th>\n",
       "      <th>2015</th>\n",
       "      <th>2016</th>\n",
       "      <th>2017</th>\n",
       "      <th>2018</th>\n",
       "    </tr>\n",
       "  </thead>\n",
       "  <tbody>\n",
       "    <tr>\n",
       "      <th>0</th>\n",
       "      <td>1</td>\n",
       "      <td>0.0</td>\n",
       "      <td>0.0</td>\n",
       "      <td>2387</td>\n",
       "      <td>3503</td>\n",
       "      <td>5955.0</td>\n",
       "    </tr>\n",
       "    <tr>\n",
       "      <th>1</th>\n",
       "      <td>2</td>\n",
       "      <td>0.0</td>\n",
       "      <td>1.0</td>\n",
       "      <td>2198</td>\n",
       "      <td>3356</td>\n",
       "      <td>5325.0</td>\n",
       "    </tr>\n",
       "    <tr>\n",
       "      <th>2</th>\n",
       "      <td>3</td>\n",
       "      <td>0.0</td>\n",
       "      <td>0.0</td>\n",
       "      <td>2449</td>\n",
       "      <td>4143</td>\n",
       "      <td>5772.0</td>\n",
       "    </tr>\n",
       "    <tr>\n",
       "      <th>3</th>\n",
       "      <td>4</td>\n",
       "      <td>0.0</td>\n",
       "      <td>2.0</td>\n",
       "      <td>2395</td>\n",
       "      <td>4211</td>\n",
       "      <td>6140.0</td>\n",
       "    </tr>\n",
       "    <tr>\n",
       "      <th>4</th>\n",
       "      <td>5</td>\n",
       "      <td>0.0</td>\n",
       "      <td>2.0</td>\n",
       "      <td>2583</td>\n",
       "      <td>4901</td>\n",
       "      <td>6584.0</td>\n",
       "    </tr>\n",
       "    <tr>\n",
       "      <th>5</th>\n",
       "      <td>6</td>\n",
       "      <td>0.0</td>\n",
       "      <td>2.0</td>\n",
       "      <td>2332</td>\n",
       "      <td>5058</td>\n",
       "      <td>6593.0</td>\n",
       "    </tr>\n",
       "    <tr>\n",
       "      <th>6</th>\n",
       "      <td>7</td>\n",
       "      <td>0.0</td>\n",
       "      <td>14.0</td>\n",
       "      <td>2738</td>\n",
       "      <td>5766</td>\n",
       "      <td>6184.0</td>\n",
       "    </tr>\n",
       "    <tr>\n",
       "      <th>7</th>\n",
       "      <td>8</td>\n",
       "      <td>2.0</td>\n",
       "      <td>417.0</td>\n",
       "      <td>3661</td>\n",
       "      <td>5920</td>\n",
       "      <td>5946.0</td>\n",
       "    </tr>\n",
       "    <tr>\n",
       "      <th>8</th>\n",
       "      <td>9</td>\n",
       "      <td>0.0</td>\n",
       "      <td>1322.0</td>\n",
       "      <td>3855</td>\n",
       "      <td>5976</td>\n",
       "      <td>5714.0</td>\n",
       "    </tr>\n",
       "    <tr>\n",
       "      <th>9</th>\n",
       "      <td>10</td>\n",
       "      <td>0.0</td>\n",
       "      <td>2494.0</td>\n",
       "      <td>4090</td>\n",
       "      <td>6466</td>\n",
       "      <td>618.0</td>\n",
       "    </tr>\n",
       "    <tr>\n",
       "      <th>10</th>\n",
       "      <td>11</td>\n",
       "      <td>0.0</td>\n",
       "      <td>2250.0</td>\n",
       "      <td>3780</td>\n",
       "      <td>6084</td>\n",
       "      <td>0.0</td>\n",
       "    </tr>\n",
       "    <tr>\n",
       "      <th>11</th>\n",
       "      <td>12</td>\n",
       "      <td>0.0</td>\n",
       "      <td>2145.0</td>\n",
       "      <td>4144</td>\n",
       "      <td>6577</td>\n",
       "      <td>0.0</td>\n",
       "    </tr>\n",
       "  </tbody>\n",
       "</table>\n",
       "</div>"
      ],
      "text/plain": [
       "    CRASH_MONTH  2014    2015  2016  2017    2018\n",
       "0             1   0.0     0.0  2387  3503  5955.0\n",
       "1             2   0.0     1.0  2198  3356  5325.0\n",
       "2             3   0.0     0.0  2449  4143  5772.0\n",
       "3             4   0.0     2.0  2395  4211  6140.0\n",
       "4             5   0.0     2.0  2583  4901  6584.0\n",
       "5             6   0.0     2.0  2332  5058  6593.0\n",
       "6             7   0.0    14.0  2738  5766  6184.0\n",
       "7             8   2.0   417.0  3661  5920  5946.0\n",
       "8             9   0.0  1322.0  3855  5976  5714.0\n",
       "9            10   0.0  2494.0  4090  6466   618.0\n",
       "10           11   0.0  2250.0  3780  6084     0.0\n",
       "11           12   0.0  2145.0  4144  6577     0.0"
      ]
     },
     "execution_count": 13,
     "metadata": {},
     "output_type": "execute_result"
    }
   ],
   "source": [
    "# Re order the dataframe\n",
    "years_to_plot = years[['CRASH_MONTH', '2014', '2015', '2016', '2017', '2018']]\n",
    "years_to_plot"
   ]
  },
  {
   "cell_type": "code",
   "execution_count": 14,
   "metadata": {},
   "outputs": [
    {
     "data": {
      "image/png": "[encoded data removed]",
      "text/plain": [
       "<Figure size 432x288 with 1 Axes>"
      ]
     },
     "metadata": {},
     "output_type": "display_data"
    }
   ],
   "source": [
    "# This is a plot that builds on itself. It is pieced together year by year. \n",
    "plt.plot(years_to_plot['CRASH_MONTH'], years_to_plot['2014'], label = '2014')\n",
    "yr_list = [x + 12 for x in years_to_plot['CRASH_MONTH']]\n",
    "plt.plot(yr_list, years_to_plot['2015'], label  = '2015')\n",
    "yr_list = [x + 12 for x in yr_list]\n",
    "plt.plot(yr_list, years_to_plot['2016'], label = '2016')\n",
    "yr_list = [x + 12 for x in yr_list]\n",
    "plt.plot(yr_list, years_to_plot['2017'], label = '2017')\n",
    "yr_list = [x + 12 for x in yr_list]\n",
    "plt.plot(yr_list, years_to_plot['2018'], label='2018')\n",
    "plt.xticks([0, 10, 20, 30, 40, 50, 60], ['January, 2014', 'October, 2014', 'August, 2015', 'June, 2016',\n",
    "                                         'April, 2017', 'February, 2018', 'December, 2018 (No data)'], rotation=45)\n",
    "plt.ylabel('# of Accidents')\n",
    "plt.title('Traffic Accidents Over Time of Data Collection')\n",
    "plt.legend(loc='lower left', bbox_to_anchor=(1.04, 0))\n",
    "plt.show()"
   ]
  },
  {
   "cell_type": "markdown",
   "metadata": {},
   "source": [
    "# Perhaps it's too early to tell\n",
    "\n",
    "From the above plot we see that this system of electronically reporting traffic incidents began in 2015. We know from the metadata that citywide data did not become available until 2017. Once traffic data first became available, traffic accidents appeared to increase as time went on. We think this has something to do with more and more data becoming available rather than traffic incidents increasing so significantly. It's interesting to look at the availability of data in this way. We cannot yet determine what the chart will do in the future. The drop towards zero is obviously directly related to no data being available yet. So the only real analysis we can perform is on all of 2017 and the earlier part of 2018. \n",
    "\n",
    "As data becomes more available, and if the City decides it wants to keep its e-reporting system in place; this kind of data might be used for more predictive modeling."
   ]
  },
  {
   "cell_type": "markdown",
   "metadata": {},
   "source": [
    "## Let's get mapping\n",
    "\n",
    "#### What do these accidents look like on a map? Coordinates are recorded for most of the incidents. Are they centralized or are they spread out?\n",
    "\n",
    "We'll use the API provided through Google Maps to make this investigation."
   ]
  },
  {
   "cell_type": "code",
   "execution_count": 16,
   "metadata": {},
   "outputs": [
    {
     "data": {
      "text/html": [
       "<div>\n",
       "<style scoped>\n",
       "    .dataframe tbody tr th:only-of-type {\n",
       "        vertical-align: middle;\n",
       "    }\n",
       "\n",
       "    .dataframe tbody tr th {\n",
       "        vertical-align: top;\n",
       "    }\n",
       "\n",
       "    .dataframe thead th {\n",
       "        text-align: right;\n",
       "    }\n",
       "</style>\n",
       "<table border=\"1\" class=\"dataframe\">\n",
       "  <thead>\n",
       "    <tr style=\"text-align: right;\">\n",
       "      <th></th>\n",
       "      <th>LATITUDE</th>\n",
       "      <th>LONGITUDE</th>\n",
       "    </tr>\n",
       "  </thead>\n",
       "  <tbody>\n",
       "    <tr>\n",
       "      <th>0</th>\n",
       "      <td>41.897595</td>\n",
       "      <td>-87.705161</td>\n",
       "    </tr>\n",
       "    <tr>\n",
       "      <th>1</th>\n",
       "      <td>41.764475</td>\n",
       "      <td>-87.663919</td>\n",
       "    </tr>\n",
       "    <tr>\n",
       "      <th>2</th>\n",
       "      <td>41.770234</td>\n",
       "      <td>-87.685437</td>\n",
       "    </tr>\n",
       "    <tr>\n",
       "      <th>3</th>\n",
       "      <td>41.953630</td>\n",
       "      <td>-87.649769</td>\n",
       "    </tr>\n",
       "    <tr>\n",
       "      <th>4</th>\n",
       "      <td>41.922073</td>\n",
       "      <td>-87.781887</td>\n",
       "    </tr>\n",
       "  </tbody>\n",
       "</table>\n",
       "</div>"
      ],
      "text/plain": [
       "    LATITUDE  LONGITUDE\n",
       "0  41.897595 -87.705161\n",
       "1  41.764475 -87.663919\n",
       "2  41.770234 -87.685437\n",
       "3  41.953630 -87.649769\n",
       "4  41.922073 -87.781887"
      ]
     },
     "execution_count": 16,
     "metadata": {},
     "output_type": "execute_result"
    }
   ],
   "source": [
    "# Create a new dataframe from just the geographic coordinates of each accident (if included)\n",
    "gmaps.configure(api_key=gkey)\n",
    "locations = df_crashes[['LATITUDE', 'LONGITUDE']]\n",
    "locations2 = locations.dropna()\n",
    "locations2.head()"
   ]
  },
  {
   "cell_type": "markdown",
   "metadata": {},
   "source": [
    "#### Above is a snippet of our geo-coordinates. We've dropped the null values so the output is as expected. We will see below that we didn't lose too many records."
   ]
  },
  {
   "cell_type": "code",
   "execution_count": 17,
   "metadata": {},
   "outputs": [
    {
     "data": {
      "text/plain": [
       "(161397, 2)"
      ]
     },
     "execution_count": 17,
     "metadata": {},
     "output_type": "execute_result"
    }
   ],
   "source": [
    "locations2.shape"
   ]
  },
  {
   "cell_type": "markdown",
   "metadata": {},
   "source": [
    "#### Now we'll build a heatmap based on all crashes derived from the dataframe we just created"
   ]
  },
  {
   "cell_type": "code",
   "execution_count": 18,
   "metadata": {},
   "outputs": [],
   "source": [
    "# Customize the size of the figure. Inside curly brackets is CSS for added styling.\n",
    "figure_layout = {\n",
    "    'width': '600px',\n",
    "    'height': '900px',\n",
    "    'border': '1px solid black',\n",
    "    'padding': '1px',\n",
    "    'margin': '0 auto 0 auto'\n",
    "}\n",
    "chicago_coords = (41.85,-87.64)\n",
    "\n",
    "fig = gmaps.figure(layout=figure_layout,center=chicago_coords, zoom_level=11)"
   ]
  },
  {
   "cell_type": "code",
   "execution_count": null,
   "metadata": {},
   "outputs": [],
   "source": [
    "# Assign the marker layer to a variable\n",
    "#markers = gmaps.marker_layer(locations2)\n",
    "heatmap_layer = gmaps.heatmap_layer(locations2)\n",
    "#, fill_color='green', stroke_color='green', scale=2\n",
    "heatmap_layer.max_intensity = 35\n",
    "heatmap_layer.poin_radius = 2\n",
    "# Add the layer to the map\n",
    "fig.add_layer(heatmap_layer)\n",
    "fig"
   ]
  },
  {
   "cell_type": "markdown",
   "metadata": {},
   "source": [
    "![Crash Heatmap]("
   ]
  },
  {
   "cell_type": "markdown",
   "metadata": {},
   "source": [
    "# Crashes appear to be pretty centralized\n",
    "\n",
    "The above heat map gives us a good indication where accidents most commonly happen. It looks like they are related to volume and congestion and this adds to our conclusion that greater traffic increases the likelihood of an accident (even a minor one). \n",
    "\n",
    "Also, upon reaching the outer limits of where traffic would likely be most congested, we can say that accidents are more likely to occur at intersections of more arterial roads. We can also see a pattern of the North/South, East/West configuration of roadways. For example, towards the southern outer boundary, we can see that more accidents tend to occur on North/South oriented roads."
   ]
  },
  {
   "cell_type": "markdown",
   "metadata": {},
   "source": [
    "# What do crashes that involve fatalities look like?"
   ]
  },
  {
   "cell_type": "markdown",
   "metadata": {},
   "source": [
    "So far, we have been looking at traffic accidents overall. What about the more serious ones? Can we tell anything about them by mapping them?"
   ]
  },
  {
   "cell_type": "code",
   "execution_count": 20,
   "metadata": {},
   "outputs": [
    {
     "data": {
      "text/html": [
       "<div>\n",
       "<style scoped>\n",
       "    .dataframe tbody tr th:only-of-type {\n",
       "        vertical-align: middle;\n",
       "    }\n",
       "\n",
       "    .dataframe tbody tr th {\n",
       "        vertical-align: top;\n",
       "    }\n",
       "\n",
       "    .dataframe thead th {\n",
       "        text-align: right;\n",
       "    }\n",
       "</style>\n",
       "<table border=\"1\" class=\"dataframe\">\n",
       "  <thead>\n",
       "    <tr style=\"text-align: right;\">\n",
       "      <th></th>\n",
       "      <th>RD_NO</th>\n",
       "      <th>CRASH_DATE_EST_I</th>\n",
       "      <th>CRASH_DATE</th>\n",
       "      <th>POSTED_SPEED_LIMIT</th>\n",
       "      <th>TRAFFIC_CONTROL_DEVICE</th>\n",
       "      <th>DEVICE_CONDITION</th>\n",
       "      <th>WEATHER_CONDITION</th>\n",
       "      <th>LIGHTING_CONDITION</th>\n",
       "      <th>FIRST_CRASH_TYPE</th>\n",
       "      <th>TRAFFICWAY_TYPE</th>\n",
       "      <th>...</th>\n",
       "      <th>MOST_SEVERE_INJURY</th>\n",
       "      <th>INJURIES_TOTAL</th>\n",
       "      <th>INJURIES_FATAL</th>\n",
       "      <th>CRASH_HOUR</th>\n",
       "      <th>CRASH_DAY_OF_WEEK</th>\n",
       "      <th>CRASH_MONTH</th>\n",
       "      <th>LATITUDE</th>\n",
       "      <th>LONGITUDE</th>\n",
       "      <th>CRASH_DATE_STR</th>\n",
       "      <th>YEAR</th>\n",
       "    </tr>\n",
       "  </thead>\n",
       "  <tbody>\n",
       "    <tr>\n",
       "      <th>607</th>\n",
       "      <td>JB457663</td>\n",
       "      <td>NaN</td>\n",
       "      <td>2018-10-01 02:33:00</td>\n",
       "      <td>30</td>\n",
       "      <td>NO CONTROLS</td>\n",
       "      <td>NO CONTROLS</td>\n",
       "      <td>CLEAR</td>\n",
       "      <td>DARKNESS, LIGHTED ROAD</td>\n",
       "      <td>FIXED OBJECT</td>\n",
       "      <td>DIVIDED - W/MEDIAN (NOT RAISED)</td>\n",
       "      <td>...</td>\n",
       "      <td>FATAL</td>\n",
       "      <td>1.0</td>\n",
       "      <td>1.0</td>\n",
       "      <td>2</td>\n",
       "      <td>2</td>\n",
       "      <td>10</td>\n",
       "      <td>41.659009</td>\n",
       "      <td>-87.617448</td>\n",
       "      <td>10/01/2018 02:33:00 AM</td>\n",
       "      <td>2018</td>\n",
       "    </tr>\n",
       "    <tr>\n",
       "      <th>618</th>\n",
       "      <td>JB457634</td>\n",
       "      <td>NaN</td>\n",
       "      <td>2018-09-30 23:59:00</td>\n",
       "      <td>30</td>\n",
       "      <td>TRAFFIC SIGNAL</td>\n",
       "      <td>FUNCTIONING PROPERLY</td>\n",
       "      <td>CLEAR</td>\n",
       "      <td>DARKNESS, LIGHTED ROAD</td>\n",
       "      <td>FIXED OBJECT</td>\n",
       "      <td>DIVIDED - W/MEDIAN BARRIER</td>\n",
       "      <td>...</td>\n",
       "      <td>FATAL</td>\n",
       "      <td>5.0</td>\n",
       "      <td>3.0</td>\n",
       "      <td>23</td>\n",
       "      <td>1</td>\n",
       "      <td>9</td>\n",
       "      <td>41.875260</td>\n",
       "      <td>-87.624397</td>\n",
       "      <td>09/30/2018 11:59:00 PM</td>\n",
       "      <td>2018</td>\n",
       "    </tr>\n",
       "    <tr>\n",
       "      <th>770</th>\n",
       "      <td>JB456319</td>\n",
       "      <td>NaN</td>\n",
       "      <td>2018-09-29 21:35:00</td>\n",
       "      <td>30</td>\n",
       "      <td>TRAFFIC SIGNAL</td>\n",
       "      <td>FUNCTIONING PROPERLY</td>\n",
       "      <td>UNKNOWN</td>\n",
       "      <td>DARKNESS, LIGHTED ROAD</td>\n",
       "      <td>TURNING</td>\n",
       "      <td>CENTER TURN LANE</td>\n",
       "      <td>...</td>\n",
       "      <td>FATAL</td>\n",
       "      <td>1.0</td>\n",
       "      <td>1.0</td>\n",
       "      <td>21</td>\n",
       "      <td>7</td>\n",
       "      <td>9</td>\n",
       "      <td>41.930906</td>\n",
       "      <td>-87.806351</td>\n",
       "      <td>09/29/2018 09:35:00 PM</td>\n",
       "      <td>2018</td>\n",
       "    </tr>\n",
       "    <tr>\n",
       "      <th>1945</th>\n",
       "      <td>JB447920</td>\n",
       "      <td>NaN</td>\n",
       "      <td>2018-09-23 17:20:00</td>\n",
       "      <td>30</td>\n",
       "      <td>TRAFFIC SIGNAL</td>\n",
       "      <td>FUNCTIONING PROPERLY</td>\n",
       "      <td>CLEAR</td>\n",
       "      <td>DAYLIGHT</td>\n",
       "      <td>PEDALCYCLIST</td>\n",
       "      <td>DIVIDED - W/MEDIAN (NOT RAISED)</td>\n",
       "      <td>...</td>\n",
       "      <td>FATAL</td>\n",
       "      <td>1.0</td>\n",
       "      <td>1.0</td>\n",
       "      <td>17</td>\n",
       "      <td>1</td>\n",
       "      <td>9</td>\n",
       "      <td>41.997237</td>\n",
       "      <td>-87.711798</td>\n",
       "      <td>09/23/2018 05:20:00 PM</td>\n",
       "      <td>2018</td>\n",
       "    </tr>\n",
       "    <tr>\n",
       "      <th>6893</th>\n",
       "      <td>JB413222</td>\n",
       "      <td>NaN</td>\n",
       "      <td>2018-08-29 04:06:00</td>\n",
       "      <td>35</td>\n",
       "      <td>NO CONTROLS</td>\n",
       "      <td>NO CONTROLS</td>\n",
       "      <td>RAIN</td>\n",
       "      <td>DARKNESS, LIGHTED ROAD</td>\n",
       "      <td>FIXED OBJECT</td>\n",
       "      <td>NOT DIVIDED</td>\n",
       "      <td>...</td>\n",
       "      <td>FATAL</td>\n",
       "      <td>3.0</td>\n",
       "      <td>1.0</td>\n",
       "      <td>4</td>\n",
       "      <td>4</td>\n",
       "      <td>8</td>\n",
       "      <td>41.933187</td>\n",
       "      <td>-87.687778</td>\n",
       "      <td>08/29/2018 04:06:00 AM</td>\n",
       "      <td>2018</td>\n",
       "    </tr>\n",
       "  </tbody>\n",
       "</table>\n",
       "<p>5 rows × 36 columns</p>\n",
       "</div>"
      ],
      "text/plain": [
       "         RD_NO CRASH_DATE_EST_I           CRASH_DATE  POSTED_SPEED_LIMIT  \\\n",
       "607   JB457663              NaN  2018-10-01 02:33:00                  30   \n",
       "618   JB457634              NaN  2018-09-30 23:59:00                  30   \n",
       "770   JB456319              NaN  2018-09-29 21:35:00                  30   \n",
       "1945  JB447920              NaN  2018-09-23 17:20:00                  30   \n",
       "6893  JB413222              NaN  2018-08-29 04:06:00                  35   \n",
       "\n",
       "     TRAFFIC_CONTROL_DEVICE      DEVICE_CONDITION WEATHER_CONDITION  \\\n",
       "607             NO CONTROLS           NO CONTROLS             CLEAR   \n",
       "618          TRAFFIC SIGNAL  FUNCTIONING PROPERLY             CLEAR   \n",
       "770          TRAFFIC SIGNAL  FUNCTIONING PROPERLY           UNKNOWN   \n",
       "1945         TRAFFIC SIGNAL  FUNCTIONING PROPERLY             CLEAR   \n",
       "6893            NO CONTROLS           NO CONTROLS              RAIN   \n",
       "\n",
       "          LIGHTING_CONDITION FIRST_CRASH_TYPE  \\\n",
       "607   DARKNESS, LIGHTED ROAD     FIXED OBJECT   \n",
       "618   DARKNESS, LIGHTED ROAD     FIXED OBJECT   \n",
       "770   DARKNESS, LIGHTED ROAD          TURNING   \n",
       "1945                DAYLIGHT     PEDALCYCLIST   \n",
       "6893  DARKNESS, LIGHTED ROAD     FIXED OBJECT   \n",
       "\n",
       "                      TRAFFICWAY_TYPE  ...   MOST_SEVERE_INJURY  \\\n",
       "607   DIVIDED - W/MEDIAN (NOT RAISED)  ...                FATAL   \n",
       "618        DIVIDED - W/MEDIAN BARRIER  ...                FATAL   \n",
       "770                  CENTER TURN LANE  ...                FATAL   \n",
       "1945  DIVIDED - W/MEDIAN (NOT RAISED)  ...                FATAL   \n",
       "6893                      NOT DIVIDED  ...                FATAL   \n",
       "\n",
       "     INJURIES_TOTAL INJURIES_FATAL CRASH_HOUR CRASH_DAY_OF_WEEK CRASH_MONTH  \\\n",
       "607             1.0            1.0          2                 2          10   \n",
       "618             5.0            3.0         23                 1           9   \n",
       "770             1.0            1.0         21                 7           9   \n",
       "1945            1.0            1.0         17                 1           9   \n",
       "6893            3.0            1.0          4                 4           8   \n",
       "\n",
       "       LATITUDE  LONGITUDE          CRASH_DATE_STR  YEAR  \n",
       "607   41.659009 -87.617448  10/01/2018 02:33:00 AM  2018  \n",
       "618   41.875260 -87.624397  09/30/2018 11:59:00 PM  2018  \n",
       "770   41.930906 -87.806351  09/29/2018 09:35:00 PM  2018  \n",
       "1945  41.997237 -87.711798  09/23/2018 05:20:00 PM  2018  \n",
       "6893  41.933187 -87.687778  08/29/2018 04:06:00 AM  2018  \n",
       "\n",
       "[5 rows x 36 columns]"
      ]
     },
     "execution_count": 20,
     "metadata": {},
     "output_type": "execute_result"
    }
   ],
   "source": [
    "# Initialize a dataset for all accidents involving fatalities\n",
    "crashes3 = df_crashes[df_crashes.INJURIES_FATAL > 0]\n",
    "# Ensure the data looks as expected\n",
    "crashes3.head()"
   ]
  },
  {
   "cell_type": "code",
   "execution_count": 22,
   "metadata": {},
   "outputs": [
    {
     "data": {
      "text/plain": [
       "(155, 36)"
      ]
     },
     "execution_count": 22,
     "metadata": {},
     "output_type": "execute_result"
    }
   ],
   "source": [
    "crashes3.shape"
   ]
  },
  {
   "cell_type": "code",
   "execution_count": 23,
   "metadata": {},
   "outputs": [],
   "source": [
    "# Create the dataframe\n",
    "locations = crashes3[['LATITUDE', 'LONGITUDE']]"
   ]
  },
  {
   "cell_type": "code",
   "execution_count": 24,
   "metadata": {},
   "outputs": [],
   "source": [
    "# Customize the size of the figure. Inside curly brackets is CSS for added styling.\n",
    "figure_layout = {\n",
    "    'width': '800px',\n",
    "    'height': '900px',\n",
    "    'border': '1px solid black',\n",
    "    'padding': '1px',\n",
    "    'margin': '0 auto 0 auto'\n",
    "}\n",
    "fig = gmaps.figure(layout=figure_layout)"
   ]
  },
  {
   "cell_type": "code",
   "execution_count": 25,
   "metadata": {},
   "outputs": [
    {
     "data": {
      "application/vnd.jupyter.widget-view+json": {
       "model_id": "873988c9130c4c77afe6dc6041f24a3a",
       "version_major": 2,
       "version_minor": 0
      },
      "text/plain": [
       "Figure(layout=FigureLayout(border='1px solid black', height='900px', margin='0 auto 0 auto', padding='1px', wi…"
      ]
     },
     "metadata": {},
     "output_type": "display_data"
    }
   ],
   "source": [
    "# Assign the marker layer to a variable\n",
    "#markers = gmaps.marker_layer(locations2)\n",
    "crashes_layer = gmaps.symbol_layer(\n",
    "    locations, fill_color='green', stroke_color='green', scale=2\n",
    ")\n",
    "# Add the layer to the map\n",
    "fig.add_layer(crashes_layer)\n",
    "fig"
   ]
  },
  {
   "cell_type": "markdown",
   "metadata": {},
   "source": [
    "## The geographic distribution of fatal crashes does not seem to adhere to any obvious pattern\n",
    "\n",
    "This looks more or less like a subset of the total crashes heatmap above. We do observe some clustering in more centralized locations. The greater the distance from the downtown or Central Business District area, the fewer number of ocurrences of fatalities. This is one area we believe our dataset might fall short. The metadata mentions that other police jurisdictions had their own methods for reporting, so we are likely missing a significant amount of data involving fatal crashes (particularly among major interstate routes)."
   ]
  },
  {
   "cell_type": "markdown",
   "metadata": {},
   "source": [
    "## Revisiting Days and Hours\n",
    "\n",
    "### Exploration of Different Visualization Techniques\n",
    "\n",
    "Can we gain additional insight by visualizing traffic accidents by time a different way?"
   ]
  },
  {
   "cell_type": "markdown",
   "metadata": {},
   "source": [
    "#### We used Seaborn to display a 'heatmap' type visualization of accidents by day of week and by hour"
   ]
  },
  {
   "cell_type": "code",
   "execution_count": 26,
   "metadata": {},
   "outputs": [],
   "source": [
    "day_hour = df_crashes.groupby(['CRASH_DAY_OF_WEEK','CRASH_HOUR']).count()[\"RD_NO\"]"
   ]
  },
  {
   "cell_type": "code",
   "execution_count": 27,
   "metadata": {},
   "outputs": [],
   "source": [
    "day_hour2 = day_hour.reset_index()"
   ]
  },
  {
   "cell_type": "code",
   "execution_count": 28,
   "metadata": {},
   "outputs": [
    {
     "data": {
      "image/png": "[encoded data removed]",
      "text/plain": [
       "<Figure size 432x288 with 2 Axes>"
      ]
     },
     "metadata": {},
     "output_type": "display_data"
    }
   ],
   "source": [
    "heatmap_df = day_hour2.pivot('CRASH_DAY_OF_WEEK','CRASH_HOUR','RD_NO')\n",
    "display_heatmap = sns.heatmap(heatmap_df)"
   ]
  },
  {
   "cell_type": "markdown",
   "metadata": {},
   "source": [
    "#### Above is the first result of the heatmap. We were able to replicate our results from earlier. Here, we do see a more noticeable difference in that there is a higher concentration of crashes during the morning and evening rush hours amongst weekdays. Friday stands out a bit more in this visualization."
   ]
  },
  {
   "cell_type": "code",
   "execution_count": 29,
   "metadata": {},
   "outputs": [
    {
     "data": {
      "image/png": "[encoded data removed]",
      "text/plain": [
       "<Figure size 720x720 with 2 Axes>"
      ]
     },
     "metadata": {},
     "output_type": "display_data"
    }
   ],
   "source": [
    "# Reconfigure the heatmap\n",
    "fig, ax = plt.subplots(figsize=(10,10))\n",
    "display_heatmap = sns.heatmap(heatmap_df, ax=ax,cmap=\"BuPu\")\n",
    "plt.title(\"Crashes - Day of the Week vs. Hour of the Day\")\n",
    "ax.figure.tight_layout()"
   ]
  },
  {
   "cell_type": "markdown",
   "metadata": {},
   "source": [
    "# A Higher Volume of morning rush hour incidents\n",
    "\n",
    "This is a slightly larger look at the first heatmap. It is perhaps a better way to hightlight the higher volume of incidents during the morning rush."
   ]
  },
  {
   "cell_type": "markdown",
   "metadata": {},
   "source": [
    "# Impact of Weather and Lighting\n",
    "\n",
    "Weather and lighting conditions were included in the reports for this dataset. Let's take a closer look. One might expect that poor lighting and less-than-favorable weather conditions should contribute to more accidents."
   ]
  },
  {
   "cell_type": "code",
   "execution_count": 31,
   "metadata": {},
   "outputs": [
    {
     "data": {
      "text/html": [
       "<div>\n",
       "<style scoped>\n",
       "    .dataframe tbody tr th:only-of-type {\n",
       "        vertical-align: middle;\n",
       "    }\n",
       "\n",
       "    .dataframe tbody tr th {\n",
       "        vertical-align: top;\n",
       "    }\n",
       "\n",
       "    .dataframe thead th {\n",
       "        text-align: right;\n",
       "    }\n",
       "</style>\n",
       "<table border=\"1\" class=\"dataframe\">\n",
       "  <thead>\n",
       "    <tr style=\"text-align: right;\">\n",
       "      <th></th>\n",
       "      <th>WEATHER_CONDITION</th>\n",
       "      <th>LIGHTING_CONDITION</th>\n",
       "      <th>RD_NO</th>\n",
       "    </tr>\n",
       "  </thead>\n",
       "  <tbody>\n",
       "    <tr>\n",
       "      <th>0</th>\n",
       "      <td>CLEAR</td>\n",
       "      <td>DARKNESS</td>\n",
       "      <td>5800</td>\n",
       "    </tr>\n",
       "    <tr>\n",
       "      <th>1</th>\n",
       "      <td>CLEAR</td>\n",
       "      <td>DARKNESS, LIGHTED ROAD</td>\n",
       "      <td>26519</td>\n",
       "    </tr>\n",
       "    <tr>\n",
       "      <th>2</th>\n",
       "      <td>CLEAR</td>\n",
       "      <td>DAWN</td>\n",
       "      <td>1854</td>\n",
       "    </tr>\n",
       "    <tr>\n",
       "      <th>3</th>\n",
       "      <td>CLEAR</td>\n",
       "      <td>DAYLIGHT</td>\n",
       "      <td>91187</td>\n",
       "    </tr>\n",
       "    <tr>\n",
       "      <th>4</th>\n",
       "      <td>CLEAR</td>\n",
       "      <td>DUSK</td>\n",
       "      <td>3696</td>\n",
       "    </tr>\n",
       "  </tbody>\n",
       "</table>\n",
       "</div>"
      ],
      "text/plain": [
       "  WEATHER_CONDITION      LIGHTING_CONDITION  RD_NO\n",
       "0             CLEAR                DARKNESS   5800\n",
       "1             CLEAR  DARKNESS, LIGHTED ROAD  26519\n",
       "2             CLEAR                    DAWN   1854\n",
       "3             CLEAR                DAYLIGHT  91187\n",
       "4             CLEAR                    DUSK   3696"
      ]
     },
     "execution_count": 31,
     "metadata": {},
     "output_type": "execute_result"
    }
   ],
   "source": [
    "# Isolate the needed columns in a separate dataframe\n",
    "weatherVlighting = df_crashes.groupby(['WEATHER_CONDITION','LIGHTING_CONDITION']).count()[\"RD_NO\"]\n",
    "weatherVlighting = weatherVlighting.reset_index()\n",
    "# Examine the dataframe\n",
    "weatherVlighting.head()"
   ]
  },
  {
   "cell_type": "markdown",
   "metadata": {},
   "source": [
    "#### Using Seaborn, we'll make a similar heatmap for weather and lighting conditions"
   ]
  },
  {
   "cell_type": "code",
   "execution_count": 32,
   "metadata": {},
   "outputs": [
    {
     "data": {
      "image/png": "[encoded data removed]",
      "text/plain": [
       "<Figure size 720x720 with 2 Axes>"
      ]
     },
     "metadata": {},
     "output_type": "display_data"
    }
   ],
   "source": [
    "heatmap2_df = weatherVlighting.pivot('WEATHER_CONDITION','LIGHTING_CONDITION','RD_NO')\n",
    "\n",
    "fig, ax = plt.subplots(figsize=(10,10))\n",
    "display_heatmap = sns.heatmap(heatmap2_df,ax=ax,cmap=\"BuPu\")\n",
    "plt.title(\"Crashes - Weather vs. Lighting Conditions\")\n",
    "ax.figure.tight_layout()"
   ]
  },
  {
   "cell_type": "markdown",
   "metadata": {},
   "source": [
    "# Not what we expected\n",
    "\n",
    "This is a good way of visualizing several variables at once, our hypothesis that poor weather/lighting conditions turns out to be incorrect according to this dataset. We can see that the greatest amount of accidents occurred during daylight conditions on clear days. This could be due to limitations or poor reporting. Since about half of the reporters were drivers involved in accidents themselves, care may not have been taken to record the actual conditions."
   ]
  },
  {
   "cell_type": "markdown",
   "metadata": {},
   "source": [
    "# What is the most common type of crash?\n",
    "\n",
    "### Furthermore, how many accidents involved a traffic signal?\n",
    "\n",
    "We might expect that higher speed might contribute to a higher volume of traffic accidents. However, the maps above showed the greatest concentration of accidents in more centralized, congested areas. "
   ]
  },
  {
   "cell_type": "code",
   "execution_count": 43,
   "metadata": {},
   "outputs": [
    {
     "data": {
      "image/png": "[encoded data removed]",
      "text/plain": [
       "<Figure size 432x288 with 1 Axes>"
      ]
     },
     "metadata": {},
     "output_type": "display_data"
    }
   ],
   "source": [
    "# Create a horizontal bar plot to show the most common type of crash as reported in the dataset.\n",
    "crash_type = df_crashes.groupby(['FIRST_CRASH_TYPE']).count()[\"RD_NO\"]\n",
    "crash_type = pd.DataFrame(crash_type)\n",
    "crash_type.plot.barh()\n",
    "plt.xlabel(\"Number Of Crashes\")\n",
    "plt.title('Number of Crashes by Crash Type')\n",
    "plt.show()"
   ]
  },
  {
   "cell_type": "markdown",
   "metadata": {},
   "source": [
    "### The most common types of crashes stand out as rear end crashes, parked vehicle, and same direction crashes\n",
    "\n",
    "The high number of parked motor vehicle crashes is somewhat surprising, but it shows that each collision is likely a lower-speed collision on a heavily congested roadway. In this case, higher speed is likely not a significant contributing factor."
   ]
  },
  {
   "cell_type": "markdown",
   "metadata": {},
   "source": [
    "### Let's build a plot of the posted speed limit recorded for each incident"
   ]
  },
  {
   "cell_type": "code",
   "execution_count": 42,
   "metadata": {},
   "outputs": [
    {
     "data": {
      "image/png": "[encoded data removed]",
      "text/plain": [
       "<Figure size 432x288 with 1 Axes>"
      ]
     },
     "metadata": {},
     "output_type": "display_data"
    }
   ],
   "source": [
    "# Create an area plot to show the most common posted speed limit for each wreck.\n",
    "speed_limit = df_crashes.groupby(['POSTED_SPEED_LIMIT']).count()[\"RD_NO\"]\n",
    "speed_limit = pd.DataFrame(speed_limit)\n",
    "speed_limit.plot.area()\n",
    "plt.title('Number of Crashes by Posted Speed Limit')\n",
    "plt.ylabel(\"Number Of Crashes\")\n",
    "plt.show()"
   ]
  },
  {
   "cell_type": "markdown",
   "metadata": {},
   "source": [
    "# The vast majority of accidents ocurred in low speed-limit zones \n",
    "\n",
    "### (Around 30mph)\n",
    "\n",
    "The conclusion we drew above makes sense now. Rear end crashes and parked car incidents are indicative of high, slow-moving congestion around the center of downtown Chicago."
   ]
  },
  {
   "cell_type": "markdown",
   "metadata": {},
   "source": [
    "# What about intersections?\n",
    "We noticed a high concentration of car accidents in a smaller, centralized area when looking at our heatmaps. We also noticed that there were pockets of large numbers of crashes farther out that seemed to be centralized around intersections. Can we show any additional data that supports this?"
   ]
  },
  {
   "cell_type": "code",
   "execution_count": 47,
   "metadata": {},
   "outputs": [
    {
     "data": {
      "image/png": "[encoded data removed]",
      "text/plain": [
       "<Figure size 432x288 with 1 Axes>"
      ]
     },
     "metadata": {},
     "output_type": "display_data"
    }
   ],
   "source": [
    "# Build horizontal bar chart of crashes by traffic signal type\n",
    "control_device= df_crashes.groupby(['TRAFFIC_CONTROL_DEVICE']).count()[\"RD_NO\"]\n",
    "control_device = pd.DataFrame(control_device)\n",
    "control_device.plot.barh()\n",
    "plt.xlabel(\"Number Of Crashes\")\n",
    "plt.title('Crashes Involving a Traffic Signal')\n",
    "plt.show()"
   ]
  },
  {
   "cell_type": "markdown",
   "metadata": {},
   "source": [
    "## While most accidents had no controls, a portion of them did involve a traffic signal or stop sign"
   ]
  },
  {
   "cell_type": "markdown",
   "metadata": {},
   "source": [
    "This aligns with the idea that the smaller grouping of accidents on the inner city's outskirts seemed to more commonly involve an intersection. The large grouping of wrecks that don't relate with a traffic signal again highlights the role that high volume plays in the number of incidents each day."
   ]
  },
  {
   "cell_type": "markdown",
   "metadata": {},
   "source": [
    "### Questions?"
   ]
  },
  {
   "cell_type": "code",
   "execution_count": null,
   "metadata": {},
   "outputs": [],
   "source": []
  }
 ],
 "metadata": {
  "kernelspec": {
   "display_name": "Python 3",
   "language": "python",
   "name": "python3"
  },
  "language_info": {
   "codemirror_mode": {
    "name": "ipython",
    "version": 3
   },
   "file_extension": ".py",
   "mimetype": "text/x-python",
   "name": "python",
   "nbconvert_exporter": "python",
   "pygments_lexer": "ipython3",
   "version": "3.6.5"
  }
 },
 "nbformat": 4,
 "nbformat_minor": 2
}
