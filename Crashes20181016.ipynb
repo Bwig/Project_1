{
 "cells": [
  {
   "cell_type": "code",
   "execution_count": 4,
   "metadata": {},
   "outputs": [],
   "source": [
    "import pandas as pd"
   ]
  },
  {
   "cell_type": "code",
   "execution_count": 5,
   "metadata": {},
   "outputs": [],
   "source": [
    "crashes_df = pd.read_csv('CHC_Crashes.csv')\n",
    "#crashes_df"
   ]
  },
  {
   "cell_type": "code",
   "execution_count": 6,
   "metadata": {},
   "outputs": [
    {
     "data": {
      "text/plain": [
       "dtype('float64')"
      ]
     },
     "execution_count": 6,
     "metadata": {},
     "output_type": "execute_result"
    }
   ],
   "source": [
    "crashes_df['LANE_CNT'].dtype"
   ]
  },
  {
   "cell_type": "code",
   "execution_count": 7,
   "metadata": {},
   "outputs": [],
   "source": [
    "crashes_1 = crashes_df.loc[(crashes_df['LANE_CNT'] <= 12)]\n",
    "injuries = ['INJURIES_NON_INCAPACITATING', 'INJURIES_REPORTED_NOT_EVIDENT', \n",
    "            'INJURIES_NO_INDICATION', 'INJURIES_UNKNOWN', \n",
    "            'INJURIES_INCAPACITATING', 'PHOTOS_TAKEN_I',\n",
    "            'STATEMENTS_TAKEN_I', 'DOORING_I',\n",
    "            'WORK_ZONE_I', 'WORK_ZONE_TYPE',\n",
    "            'WORKERS_PRESENT_I', 'NOT_RIGHT_OF_WAY_I',\n",
    "            'DATE_POLICE_NOTIFIED', 'LOCATION']\n",
    "\n",
    "for item in injuries:\n",
    "    del crashes_1[item]"
   ]
  },
  {
   "cell_type": "code",
   "execution_count": 8,
   "metadata": {},
   "outputs": [
    {
     "data": {
      "text/plain": [
       "Index(['RD_NO', 'CRASH_DATE_EST_I', 'CRASH_DATE', 'POSTED_SPEED_LIMIT',\n",
       "       'TRAFFIC_CONTROL_DEVICE', 'DEVICE_CONDITION', 'WEATHER_CONDITION',\n",
       "       'LIGHTING_CONDITION', 'FIRST_CRASH_TYPE', 'TRAFFICWAY_TYPE', 'LANE_CNT',\n",
       "       'ALIGNMENT', 'ROADWAY_SURFACE_COND', 'ROAD_DEFECT', 'REPORT_TYPE',\n",
       "       'CRASH_TYPE', 'INTERSECTION_RELATED_I', 'HIT_AND_RUN_I', 'DAMAGE',\n",
       "       'PRIM_CONTRIBUTORY_CAUSE', 'SEC_CONTRIBUTORY_CAUSE', 'STREET_NO',\n",
       "       'STREET_DIRECTION', 'STREET_NAME', 'BEAT_OF_OCCURRENCE', 'NUM_UNITS',\n",
       "       'MOST_SEVERE_INJURY', 'INJURIES_TOTAL', 'INJURIES_FATAL', 'CRASH_HOUR',\n",
       "       'CRASH_DAY_OF_WEEK', 'CRASH_MONTH', 'LATITUDE', 'LONGITUDE'],\n",
       "      dtype='object')"
      ]
     },
     "execution_count": 8,
     "metadata": {},
     "output_type": "execute_result"
    }
   ],
   "source": [
    "crashes_1.columns"
   ]
  },
  {
   "cell_type": "code",
   "execution_count": 9,
   "metadata": {},
   "outputs": [
    {
     "data": {
      "text/plain": [
       "6    26312\n",
       "7    23731\n",
       "3    23566\n",
       "4    23410\n",
       "5    23253\n",
       "2    22600\n",
       "1    19183\n",
       "Name: CRASH_DAY_OF_WEEK, dtype: int64"
      ]
     },
     "execution_count": 9,
     "metadata": {},
     "output_type": "execute_result"
    }
   ],
   "source": [
    " day = crashes_1['CRASH_DAY_OF_WEEK'].value_counts()\n",
    "day"
   ]
  },
  {
   "cell_type": "code",
   "execution_count": 10,
   "metadata": {},
   "outputs": [
    {
     "data": {
      "text/plain": [
       "WEATHER_CONDITION\n",
       "CLEAR                     130348\n",
       "CLOUDY/OVERCAST             4764\n",
       "FOG/SMOKE/HAZE               293\n",
       "OTHER                        440\n",
       "RAIN                       14660\n",
       "SEVERE CROSS WIND GATE        35\n",
       "SLEET/HAIL                   208\n",
       "SNOW                        4870\n",
       "UNKNOWN                     6437\n",
       "Name: RD_NO, dtype: int64"
      ]
     },
     "execution_count": 10,
     "metadata": {},
     "output_type": "execute_result"
    }
   ],
   "source": [
    "weather = crashes_1.groupby(['WEATHER_CONDITION']).count()[\"RD_NO\"]\n",
    "weather"
   ]
  },
  {
   "cell_type": "code",
   "execution_count": 11,
   "metadata": {},
   "outputs": [
    {
     "data": {
      "text/plain": [
       "162055"
      ]
     },
     "execution_count": 11,
     "metadata": {},
     "output_type": "execute_result"
    }
   ],
   "source": [
    "crashes_num = len(crashes_1[\"RD_NO\"].value_counts())\n",
    "crashes_num\n",
    "#weather_pct = weather / \"RD_NO\" * 100"
   ]
  },
  {
   "cell_type": "code",
   "execution_count": 13,
   "metadata": {},
   "outputs": [
    {
     "data": {
      "text/plain": [
       "WEATHER_CONDITION\n",
       "CLEAR                     80.434420\n",
       "CLOUDY/OVERCAST            2.939743\n",
       "FOG/SMOKE/HAZE             0.180803\n",
       "OTHER                      0.271513\n",
       "RAIN                       9.046311\n",
       "SEVERE CROSS WIND GATE     0.021598\n",
       "SLEET/HAIL                 0.128351\n",
       "SNOW                       3.005153\n",
       "UNKNOWN                    3.972108\n",
       "Name: RD_NO, dtype: float64"
      ]
     },
     "execution_count": 13,
     "metadata": {},
     "output_type": "execute_result"
    }
   ],
   "source": [
    "weather_pct = weather / crashes_num * 100\n",
    "weather_pct"
   ]
  },
  {
   "cell_type": "code",
   "execution_count": 12,
   "metadata": {},
   "outputs": [
    {
     "data": {
      "text/plain": [
       "LIGHTING_CONDITION\n",
       "DARKNESS                    7738\n",
       "DARKNESS, LIGHTED ROAD     34033\n",
       "DAWN                        2501\n",
       "DAYLIGHT                  107399\n",
       "DUSK                        4838\n",
       "UNKNOWN                     5546\n",
       "Name: RD_NO, dtype: int64"
      ]
     },
     "execution_count": 12,
     "metadata": {},
     "output_type": "execute_result"
    }
   ],
   "source": [
    "lighting = crashes_1.groupby(['LIGHTING_CONDITION']).count()[\"RD_NO\"]\n",
    "lighting"
   ]
  },
  {
   "cell_type": "code",
   "execution_count": 14,
   "metadata": {},
   "outputs": [
    {
     "data": {
      "text/plain": [
       "LIGHTING_CONDITION\n",
       "DARKNESS                   4.774922\n",
       "DARKNESS, LIGHTED ROAD    21.000895\n",
       "DAWN                       1.543303\n",
       "DAYLIGHT                  66.273179\n",
       "DUSK                       2.985406\n",
       "UNKNOWN                    3.422295\n",
       "Name: RD_NO, dtype: float64"
      ]
     },
     "execution_count": 14,
     "metadata": {},
     "output_type": "execute_result"
    }
   ],
   "source": [
    "lighting_pct = lighting / crashes_num * 100\n",
    "lighting_pct"
   ]
  },
  {
   "cell_type": "code",
   "execution_count": 15,
   "metadata": {},
   "outputs": [
    {
     "data": {
      "text/plain": [
       "FIRST_CRASH_TYPE\n",
       "ANGLE                           16778\n",
       "ANIMAL                            107\n",
       "FIXED OBJECT                     6298\n",
       "HEAD ON                          1471\n",
       "OTHER NONCOLLISION                569\n",
       "OTHER OBJECT                     1247\n",
       "OVERTURNED                         80\n",
       "PARKED MOTOR VEHICLE            34510\n",
       "PEDALCYCLIST                     2494\n",
       "PEDESTRIAN                       3488\n",
       "REAR END                        42314\n",
       "SIDESWIPE OPPOSITE DIRECTION     2412\n",
       "SIDESWIPE SAME DIRECTION        27495\n",
       "TRAIN                               7\n",
       "TURNING                         22785\n",
       "Name: RD_NO, dtype: int64"
      ]
     },
     "execution_count": 15,
     "metadata": {},
     "output_type": "execute_result"
    }
   ],
   "source": [
    "crash_type = crashes_1.groupby(['FIRST_CRASH_TYPE']).count()[\"RD_NO\"]\n",
    "crash_type"
   ]
  },
  {
   "cell_type": "code",
   "execution_count": 16,
   "metadata": {},
   "outputs": [
    {
     "data": {
      "text/plain": [
       "FIRST_CRASH_TYPE\n",
       "ANGLE                           10.353275\n",
       "ANIMAL                           0.066027\n",
       "FIXED OBJECT                     3.886335\n",
       "HEAD ON                          0.907717\n",
       "OTHER NONCOLLISION               0.351115\n",
       "OTHER OBJECT                     0.769492\n",
       "OVERTURNED                       0.049366\n",
       "PARKED MOTOR VEHICLE            21.295239\n",
       "PEDALCYCLIST                     1.538984\n",
       "PEDESTRIAN                       2.152356\n",
       "REAR END                        26.110888\n",
       "SIDESWIPE OPPOSITE DIRECTION     1.488384\n",
       "SIDESWIPE SAME DIRECTION        16.966462\n",
       "TRAIN                            0.004320\n",
       "TURNING                         14.060041\n",
       "Name: RD_NO, dtype: float64"
      ]
     },
     "execution_count": 16,
     "metadata": {},
     "output_type": "execute_result"
    }
   ],
   "source": [
    "crash_type_pct = crash_type / crashes_num * 100\n",
    "crash_type_pct"
   ]
  },
  {
   "cell_type": "code",
   "execution_count": 17,
   "metadata": {},
   "outputs": [],
   "source": [
    "import gmaps\n",
    "\n",
    "# Google developer API key\n",
    "from config import gkey\n",
    "\n",
    "# Access maps with unique API key\n",
    "gmaps.configure(api_key=gkey)"
   ]
  },
  {
   "cell_type": "code",
   "execution_count": 18,
   "metadata": {},
   "outputs": [
    {
     "data": {
      "text/plain": [
       "(162055, 34)"
      ]
     },
     "execution_count": 18,
     "metadata": {},
     "output_type": "execute_result"
    }
   ],
   "source": [
    "crashes_1.shape"
   ]
  },
  {
   "cell_type": "code",
   "execution_count": 22,
   "metadata": {},
   "outputs": [],
   "source": [
    "# Store latitude and longitude in locations\n",
    "locations = crashes_1[[\"LATITUDE\",\"LONGITUDE\"]]"
   ]
  },
  {
   "cell_type": "code",
   "execution_count": 23,
   "metadata": {
    "scrolled": true
   },
   "outputs": [
    {
     "data": {
      "text/html": [
       "<div>\n",
       "<style scoped>\n",
       "    .dataframe tbody tr th:only-of-type {\n",
       "        vertical-align: middle;\n",
       "    }\n",
       "\n",
       "    .dataframe tbody tr th {\n",
       "        vertical-align: top;\n",
       "    }\n",
       "\n",
       "    .dataframe thead th {\n",
       "        text-align: right;\n",
       "    }\n",
       "</style>\n",
       "<table border=\"1\" class=\"dataframe\">\n",
       "  <thead>\n",
       "    <tr style=\"text-align: right;\">\n",
       "      <th></th>\n",
       "      <th>LATITUDE</th>\n",
       "      <th>LONGITUDE</th>\n",
       "    </tr>\n",
       "  </thead>\n",
       "  <tbody>\n",
       "    <tr>\n",
       "      <th>0</th>\n",
       "      <td>41.897595</td>\n",
       "      <td>-87.705161</td>\n",
       "    </tr>\n",
       "    <tr>\n",
       "      <th>1</th>\n",
       "      <td>41.764475</td>\n",
       "      <td>-87.663919</td>\n",
       "    </tr>\n",
       "    <tr>\n",
       "      <th>2</th>\n",
       "      <td>41.770234</td>\n",
       "      <td>-87.685437</td>\n",
       "    </tr>\n",
       "    <tr>\n",
       "      <th>4</th>\n",
       "      <td>41.953630</td>\n",
       "      <td>-87.649769</td>\n",
       "    </tr>\n",
       "    <tr>\n",
       "      <th>5</th>\n",
       "      <td>41.922073</td>\n",
       "      <td>-87.781887</td>\n",
       "    </tr>\n",
       "  </tbody>\n",
       "</table>\n",
       "</div>"
      ],
      "text/plain": [
       "    LATITUDE  LONGITUDE\n",
       "0  41.897595 -87.705161\n",
       "1  41.764475 -87.663919\n",
       "2  41.770234 -87.685437\n",
       "4  41.953630 -87.649769\n",
       "5  41.922073 -87.781887"
      ]
     },
     "execution_count": 23,
     "metadata": {},
     "output_type": "execute_result"
    }
   ],
   "source": [
    "locations2 = locations.dropna()\n",
    "locations2.head()"
   ]
  },
  {
   "cell_type": "code",
   "execution_count": 24,
   "metadata": {},
   "outputs": [
    {
     "data": {
      "text/plain": [
       "(161397, 2)"
      ]
     },
     "execution_count": 24,
     "metadata": {},
     "output_type": "execute_result"
    }
   ],
   "source": [
    "locations2.shape"
   ]
  },
  {
   "cell_type": "raw",
   "metadata": {},
   "source": []
  },
  {
   "cell_type": "markdown",
   "metadata": {},
   "source": [
    "# BELOW IS ALL CRASHES MAP\n",
    "\n"
   ]
  },
  {
   "cell_type": "code",
   "execution_count": 71,
   "metadata": {},
   "outputs": [],
   "source": [
    "# Customize the size of the figure. Below in the curlies is CSS, makes it pretty\n",
    "figure_layout = {\n",
    "    'width': '600px',\n",
    "    'height': '900px',\n",
    "    'border': '1px solid black',\n",
    "    'padding': '1px',\n",
    "    'margin': '0 auto 0 auto'\n",
    "}\n",
    "chicago_coords = (41.85,-87.64)\n",
    "\n",
    "fig = gmaps.figure(layout=figure_layout,center=chicago_coords, zoom_level=11)"
   ]
  },
  {
   "cell_type": "code",
   "execution_count": 72,
   "metadata": {},
   "outputs": [
    {
     "data": {
      "application/vnd.jupyter.widget-view+json": {
       "model_id": "6cc36ca8295d48a6adb73a746fadc627",
       "version_major": 2,
       "version_minor": 0
      },
      "text/plain": [
       "Figure(layout=FigureLayout(border='1px solid black', height='900px', margin='0 auto 0 auto', padding='1px', wi…"
      ]
     },
     "metadata": {},
     "output_type": "display_data"
    }
   ],
   "source": [
    "# Assign the marker layer to a variable\n",
    "#markers = gmaps.marker_layer(locations2)\n",
    "heatmap_layer = gmaps.heatmap_layer(locations2)\n",
    "#, fill_color='green', stroke_color='green', scale=2\n",
    "heatmap_layer.max_intensity = 35\n",
    "heatmap_layer.poin_radius = 2\n",
    "# Add the layer to the map\n",
    "fig.add_layer(heatmap_layer)\n",
    "fig"
   ]
  },
  {
   "cell_type": "markdown",
   "metadata": {},
   "source": [
    "# START FATAL INJURIES MAP\n"
   ]
  },
  {
   "cell_type": "code",
   "execution_count": 27,
   "metadata": {},
   "outputs": [
    {
     "data": {
      "text/html": [
       "<div>\n",
       "<style scoped>\n",
       "    .dataframe tbody tr th:only-of-type {\n",
       "        vertical-align: middle;\n",
       "    }\n",
       "\n",
       "    .dataframe tbody tr th {\n",
       "        vertical-align: top;\n",
       "    }\n",
       "\n",
       "    .dataframe thead th {\n",
       "        text-align: right;\n",
       "    }\n",
       "</style>\n",
       "<table border=\"1\" class=\"dataframe\">\n",
       "  <thead>\n",
       "    <tr style=\"text-align: right;\">\n",
       "      <th></th>\n",
       "      <th>RD_NO</th>\n",
       "      <th>CRASH_DATE_EST_I</th>\n",
       "      <th>CRASH_DATE</th>\n",
       "      <th>POSTED_SPEED_LIMIT</th>\n",
       "      <th>TRAFFIC_CONTROL_DEVICE</th>\n",
       "      <th>DEVICE_CONDITION</th>\n",
       "      <th>WEATHER_CONDITION</th>\n",
       "      <th>LIGHTING_CONDITION</th>\n",
       "      <th>FIRST_CRASH_TYPE</th>\n",
       "      <th>TRAFFICWAY_TYPE</th>\n",
       "      <th>...</th>\n",
       "      <th>BEAT_OF_OCCURRENCE</th>\n",
       "      <th>NUM_UNITS</th>\n",
       "      <th>MOST_SEVERE_INJURY</th>\n",
       "      <th>INJURIES_TOTAL</th>\n",
       "      <th>INJURIES_FATAL</th>\n",
       "      <th>CRASH_HOUR</th>\n",
       "      <th>CRASH_DAY_OF_WEEK</th>\n",
       "      <th>CRASH_MONTH</th>\n",
       "      <th>LATITUDE</th>\n",
       "      <th>LONGITUDE</th>\n",
       "    </tr>\n",
       "  </thead>\n",
       "  <tbody>\n",
       "    <tr>\n",
       "      <th>1056</th>\n",
       "      <td>JB457663</td>\n",
       "      <td>NaN</td>\n",
       "      <td>10/01/2018 02:33:00 AM</td>\n",
       "      <td>30</td>\n",
       "      <td>NO CONTROLS</td>\n",
       "      <td>NO CONTROLS</td>\n",
       "      <td>CLEAR</td>\n",
       "      <td>DARKNESS, LIGHTED ROAD</td>\n",
       "      <td>FIXED OBJECT</td>\n",
       "      <td>DIVIDED - W/MEDIAN (NOT RAISED)</td>\n",
       "      <td>...</td>\n",
       "      <td>533.0</td>\n",
       "      <td>1.0</td>\n",
       "      <td>FATAL</td>\n",
       "      <td>1.0</td>\n",
       "      <td>1.0</td>\n",
       "      <td>2</td>\n",
       "      <td>2</td>\n",
       "      <td>10</td>\n",
       "      <td>41.659009</td>\n",
       "      <td>-87.617448</td>\n",
       "    </tr>\n",
       "    <tr>\n",
       "      <th>1074</th>\n",
       "      <td>JB457634</td>\n",
       "      <td>NaN</td>\n",
       "      <td>09/30/2018 11:59:00 PM</td>\n",
       "      <td>30</td>\n",
       "      <td>TRAFFIC SIGNAL</td>\n",
       "      <td>FUNCTIONING PROPERLY</td>\n",
       "      <td>CLEAR</td>\n",
       "      <td>DARKNESS, LIGHTED ROAD</td>\n",
       "      <td>FIXED OBJECT</td>\n",
       "      <td>DIVIDED - W/MEDIAN BARRIER</td>\n",
       "      <td>...</td>\n",
       "      <td>123.0</td>\n",
       "      <td>1.0</td>\n",
       "      <td>FATAL</td>\n",
       "      <td>5.0</td>\n",
       "      <td>3.0</td>\n",
       "      <td>23</td>\n",
       "      <td>1</td>\n",
       "      <td>9</td>\n",
       "      <td>41.875260</td>\n",
       "      <td>-87.624397</td>\n",
       "    </tr>\n",
       "    <tr>\n",
       "      <th>1341</th>\n",
       "      <td>JB456319</td>\n",
       "      <td>NaN</td>\n",
       "      <td>09/29/2018 09:35:00 PM</td>\n",
       "      <td>30</td>\n",
       "      <td>TRAFFIC SIGNAL</td>\n",
       "      <td>FUNCTIONING PROPERLY</td>\n",
       "      <td>UNKNOWN</td>\n",
       "      <td>DARKNESS, LIGHTED ROAD</td>\n",
       "      <td>TURNING</td>\n",
       "      <td>CENTER TURN LANE</td>\n",
       "      <td>...</td>\n",
       "      <td>2511.0</td>\n",
       "      <td>2.0</td>\n",
       "      <td>FATAL</td>\n",
       "      <td>1.0</td>\n",
       "      <td>1.0</td>\n",
       "      <td>21</td>\n",
       "      <td>7</td>\n",
       "      <td>9</td>\n",
       "      <td>41.930906</td>\n",
       "      <td>-87.806351</td>\n",
       "    </tr>\n",
       "    <tr>\n",
       "      <th>3373</th>\n",
       "      <td>JB447920</td>\n",
       "      <td>NaN</td>\n",
       "      <td>09/23/2018 05:20:00 PM</td>\n",
       "      <td>30</td>\n",
       "      <td>TRAFFIC SIGNAL</td>\n",
       "      <td>FUNCTIONING PROPERLY</td>\n",
       "      <td>CLEAR</td>\n",
       "      <td>DAYLIGHT</td>\n",
       "      <td>PEDALCYCLIST</td>\n",
       "      <td>DIVIDED - W/MEDIAN (NOT RAISED)</td>\n",
       "      <td>...</td>\n",
       "      <td>1711.0</td>\n",
       "      <td>2.0</td>\n",
       "      <td>FATAL</td>\n",
       "      <td>1.0</td>\n",
       "      <td>1.0</td>\n",
       "      <td>17</td>\n",
       "      <td>1</td>\n",
       "      <td>9</td>\n",
       "      <td>41.997237</td>\n",
       "      <td>-87.711798</td>\n",
       "    </tr>\n",
       "    <tr>\n",
       "      <th>11851</th>\n",
       "      <td>JB413222</td>\n",
       "      <td>NaN</td>\n",
       "      <td>08/29/2018 04:06:00 AM</td>\n",
       "      <td>35</td>\n",
       "      <td>NO CONTROLS</td>\n",
       "      <td>NO CONTROLS</td>\n",
       "      <td>RAIN</td>\n",
       "      <td>DARKNESS, LIGHTED ROAD</td>\n",
       "      <td>FIXED OBJECT</td>\n",
       "      <td>NOT DIVIDED</td>\n",
       "      <td>...</td>\n",
       "      <td>1432.0</td>\n",
       "      <td>1.0</td>\n",
       "      <td>FATAL</td>\n",
       "      <td>3.0</td>\n",
       "      <td>1.0</td>\n",
       "      <td>4</td>\n",
       "      <td>4</td>\n",
       "      <td>8</td>\n",
       "      <td>41.933187</td>\n",
       "      <td>-87.687778</td>\n",
       "    </tr>\n",
       "  </tbody>\n",
       "</table>\n",
       "<p>5 rows × 34 columns</p>\n",
       "</div>"
      ],
      "text/plain": [
       "          RD_NO CRASH_DATE_EST_I              CRASH_DATE  POSTED_SPEED_LIMIT  \\\n",
       "1056   JB457663              NaN  10/01/2018 02:33:00 AM                  30   \n",
       "1074   JB457634              NaN  09/30/2018 11:59:00 PM                  30   \n",
       "1341   JB456319              NaN  09/29/2018 09:35:00 PM                  30   \n",
       "3373   JB447920              NaN  09/23/2018 05:20:00 PM                  30   \n",
       "11851  JB413222              NaN  08/29/2018 04:06:00 AM                  35   \n",
       "\n",
       "      TRAFFIC_CONTROL_DEVICE      DEVICE_CONDITION WEATHER_CONDITION  \\\n",
       "1056             NO CONTROLS           NO CONTROLS             CLEAR   \n",
       "1074          TRAFFIC SIGNAL  FUNCTIONING PROPERLY             CLEAR   \n",
       "1341          TRAFFIC SIGNAL  FUNCTIONING PROPERLY           UNKNOWN   \n",
       "3373          TRAFFIC SIGNAL  FUNCTIONING PROPERLY             CLEAR   \n",
       "11851            NO CONTROLS           NO CONTROLS              RAIN   \n",
       "\n",
       "           LIGHTING_CONDITION FIRST_CRASH_TYPE  \\\n",
       "1056   DARKNESS, LIGHTED ROAD     FIXED OBJECT   \n",
       "1074   DARKNESS, LIGHTED ROAD     FIXED OBJECT   \n",
       "1341   DARKNESS, LIGHTED ROAD          TURNING   \n",
       "3373                 DAYLIGHT     PEDALCYCLIST   \n",
       "11851  DARKNESS, LIGHTED ROAD     FIXED OBJECT   \n",
       "\n",
       "                       TRAFFICWAY_TYPE    ...      BEAT_OF_OCCURRENCE  \\\n",
       "1056   DIVIDED - W/MEDIAN (NOT RAISED)    ...                   533.0   \n",
       "1074        DIVIDED - W/MEDIAN BARRIER    ...                   123.0   \n",
       "1341                  CENTER TURN LANE    ...                  2511.0   \n",
       "3373   DIVIDED - W/MEDIAN (NOT RAISED)    ...                  1711.0   \n",
       "11851                      NOT DIVIDED    ...                  1432.0   \n",
       "\n",
       "      NUM_UNITS MOST_SEVERE_INJURY INJURIES_TOTAL INJURIES_FATAL CRASH_HOUR  \\\n",
       "1056        1.0              FATAL            1.0            1.0          2   \n",
       "1074        1.0              FATAL            5.0            3.0         23   \n",
       "1341        2.0              FATAL            1.0            1.0         21   \n",
       "3373        2.0              FATAL            1.0            1.0         17   \n",
       "11851       1.0              FATAL            3.0            1.0          4   \n",
       "\n",
       "      CRASH_DAY_OF_WEEK CRASH_MONTH   LATITUDE  LONGITUDE  \n",
       "1056                  2          10  41.659009 -87.617448  \n",
       "1074                  1           9  41.875260 -87.624397  \n",
       "1341                  7           9  41.930906 -87.806351  \n",
       "3373                  1           9  41.997237 -87.711798  \n",
       "11851                 4           8  41.933187 -87.687778  \n",
       "\n",
       "[5 rows x 34 columns]"
      ]
     },
     "execution_count": 27,
     "metadata": {},
     "output_type": "execute_result"
    }
   ],
   "source": [
    "crashes3 = crashes_1[crashes_1.INJURIES_FATAL > 0 ]\n",
    "crashes3.head()"
   ]
  },
  {
   "cell_type": "code",
   "execution_count": 28,
   "metadata": {},
   "outputs": [
    {
     "data": {
      "text/plain": [
       "(155, 34)"
      ]
     },
     "execution_count": 28,
     "metadata": {},
     "output_type": "execute_result"
    }
   ],
   "source": [
    "crashes3.shape"
   ]
  },
  {
   "cell_type": "code",
   "execution_count": 29,
   "metadata": {},
   "outputs": [],
   "source": [
    "locations = crashes3[[\"LATITUDE\",\"LONGITUDE\"]]"
   ]
  },
  {
   "cell_type": "code",
   "execution_count": 30,
   "metadata": {},
   "outputs": [],
   "source": [
    "# Customize the size of the figure. Below in the curlies is CSS, makes it pretty\n",
    "figure_layout = {\n",
    "    'width': '800px',\n",
    "    'height': '900px',\n",
    "    'border': '1px solid black',\n",
    "    'padding': '1px',\n",
    "    'margin': '0 auto 0 auto'\n",
    "}\n",
    "fig = gmaps.figure(layout=figure_layout)"
   ]
  },
  {
   "cell_type": "code",
   "execution_count": 31,
   "metadata": {},
   "outputs": [
    {
     "data": {
      "application/vnd.jupyter.widget-view+json": {
       "model_id": "0b0ea99cb62f4e669dad07d0ea455478",
       "version_major": 2,
       "version_minor": 0
      },
      "text/plain": [
       "Figure(layout=FigureLayout(border='1px solid black', height='900px', margin='0 auto 0 auto', padding='1px', wi…"
      ]
     },
     "metadata": {},
     "output_type": "display_data"
    }
   ],
   "source": [
    "# Assign the marker layer to a variable\n",
    "#markers = gmaps.marker_layer(locations2)\n",
    "crashes_layer = gmaps.symbol_layer(\n",
    "    locations, fill_color='green', stroke_color='green', scale=2\n",
    ")\n",
    "# Add the layer to the map\n",
    "fig.add_layer(crashes_layer)\n",
    "fig"
   ]
  },
  {
   "cell_type": "markdown",
   "metadata": {},
   "source": [
    "# DAY AND HOUR HEATMAP"
   ]
  },
  {
   "cell_type": "code",
   "execution_count": 32,
   "metadata": {},
   "outputs": [
    {
     "data": {
      "text/plain": [
       "CRASH_DAY_OF_WEEK  CRASH_HOUR\n",
       "1                  0             879\n",
       "                   1             822\n",
       "                   2             800\n",
       "                   3             687\n",
       "                   4             509\n",
       "Name: RD_NO, dtype: int64"
      ]
     },
     "execution_count": 32,
     "metadata": {},
     "output_type": "execute_result"
    }
   ],
   "source": [
    "day_hour = crashes_1.groupby(['CRASH_DAY_OF_WEEK','CRASH_HOUR']).count()[\"RD_NO\"]\n",
    "day_hour.head()"
   ]
  },
  {
   "cell_type": "code",
   "execution_count": 33,
   "metadata": {},
   "outputs": [],
   "source": [
    "day_hour2 = day_hour.reset_index()\n"
   ]
  },
  {
   "cell_type": "code",
   "execution_count": 34,
   "metadata": {},
   "outputs": [
    {
     "data": {
      "text/html": [
       "<div>\n",
       "<style scoped>\n",
       "    .dataframe tbody tr th:only-of-type {\n",
       "        vertical-align: middle;\n",
       "    }\n",
       "\n",
       "    .dataframe tbody tr th {\n",
       "        vertical-align: top;\n",
       "    }\n",
       "\n",
       "    .dataframe thead th {\n",
       "        text-align: right;\n",
       "    }\n",
       "</style>\n",
       "<table border=\"1\" class=\"dataframe\">\n",
       "  <thead>\n",
       "    <tr style=\"text-align: right;\">\n",
       "      <th></th>\n",
       "      <th>CRASH_DAY_OF_WEEK</th>\n",
       "      <th>CRASH_HOUR</th>\n",
       "      <th>RD_NO</th>\n",
       "    </tr>\n",
       "  </thead>\n",
       "  <tbody>\n",
       "    <tr>\n",
       "      <th>0</th>\n",
       "      <td>1</td>\n",
       "      <td>0</td>\n",
       "      <td>879</td>\n",
       "    </tr>\n",
       "    <tr>\n",
       "      <th>1</th>\n",
       "      <td>1</td>\n",
       "      <td>1</td>\n",
       "      <td>822</td>\n",
       "    </tr>\n",
       "    <tr>\n",
       "      <th>2</th>\n",
       "      <td>1</td>\n",
       "      <td>2</td>\n",
       "      <td>800</td>\n",
       "    </tr>\n",
       "    <tr>\n",
       "      <th>3</th>\n",
       "      <td>1</td>\n",
       "      <td>3</td>\n",
       "      <td>687</td>\n",
       "    </tr>\n",
       "    <tr>\n",
       "      <th>4</th>\n",
       "      <td>1</td>\n",
       "      <td>4</td>\n",
       "      <td>509</td>\n",
       "    </tr>\n",
       "  </tbody>\n",
       "</table>\n",
       "</div>"
      ],
      "text/plain": [
       "   CRASH_DAY_OF_WEEK  CRASH_HOUR  RD_NO\n",
       "0                  1           0    879\n",
       "1                  1           1    822\n",
       "2                  1           2    800\n",
       "3                  1           3    687\n",
       "4                  1           4    509"
      ]
     },
     "execution_count": 34,
     "metadata": {},
     "output_type": "execute_result"
    }
   ],
   "source": [
    "day_hour2.head()"
   ]
  },
  {
   "cell_type": "code",
   "execution_count": 17,
   "metadata": {},
   "outputs": [],
   "source": [
    "#day_hour.rename(index=str,columns={\"CRASH_DAY_OF_WEEK\":\"Day of Week\",\"CRASH_HOUR\":\"Hour\", \"RD_NO\":\"# of Crashes\"})"
   ]
  },
  {
   "cell_type": "code",
   "execution_count": 60,
   "metadata": {},
   "outputs": [],
   "source": [
    "import seaborn as sns\n",
    "import numpy as np\n",
    "import matplotlib.pyplot as plt\n",
    "%matplotlib inline"
   ]
  },
  {
   "cell_type": "code",
   "execution_count": 61,
   "metadata": {},
   "outputs": [
    {
     "data": {
      "image/png": "[encoded data removed]",
      "text/plain": [
       "<Figure size 432x288 with 2 Axes>"
      ]
     },
     "metadata": {
      "needs_background": "light"
     },
     "output_type": "display_data"
    }
   ],
   "source": [
    "heatmap_df = day_hour2.pivot('CRASH_DAY_OF_WEEK','CRASH_HOUR','RD_NO')\n",
    "display_heatmap = sns.heatmap(heatmap_df)"
   ]
  },
  {
   "cell_type": "code",
   "execution_count": 73,
   "metadata": {
    "scrolled": true
   },
   "outputs": [
    {
     "data": {
      "image/png": "[encoded data removed]",
      "text/plain": [
       "<Figure size 720x720 with 2 Axes>"
      ]
     },
     "metadata": {
      "needs_background": "light"
     },
     "output_type": "display_data"
    }
   ],
   "source": [
    "fig, ax = plt.subplots(figsize=(10,10))\n",
    "display_heatmap = sns.heatmap(heatmap_df, ax=ax,cmap=\"BuPu\")\n",
    "# # Save the figure\n",
    "plt.title(\"Crashes - Day of the Week vs. Hour of the Day\")\n",
    "ax.figure.tight_layout()\n",
    "display_heatmap.figure.savefig(\"DayvHour2.png\")"
   ]
  },
  {
   "cell_type": "code",
   "execution_count": null,
   "metadata": {},
   "outputs": [],
   "source": []
  },
  {
   "cell_type": "markdown",
   "metadata": {},
   "source": [
    "# Weather vs Lighting Heatmap"
   ]
  },
  {
   "cell_type": "code",
   "execution_count": 63,
   "metadata": {},
   "outputs": [
    {
     "data": {
      "text/plain": [
       "WEATHER_CONDITION  LIGHTING_CONDITION    \n",
       "CLEAR              DARKNESS                   5800\n",
       "                   DARKNESS, LIGHTED ROAD    26519\n",
       "                   DAWN                       1854\n",
       "                   DAYLIGHT                  91187\n",
       "                   DUSK                       3696\n",
       "Name: RD_NO, dtype: int64"
      ]
     },
     "execution_count": 63,
     "metadata": {},
     "output_type": "execute_result"
    }
   ],
   "source": [
    "weatherVlighting = crashes_1.groupby(['WEATHER_CONDITION','LIGHTING_CONDITION']).count()[\"RD_NO\"]\n",
    "weatherVlighting.head()"
   ]
  },
  {
   "cell_type": "code",
   "execution_count": 64,
   "metadata": {},
   "outputs": [],
   "source": [
    "weatherVlighting = weatherVlighting.reset_index()"
   ]
  },
  {
   "cell_type": "code",
   "execution_count": 65,
   "metadata": {},
   "outputs": [
    {
     "data": {
      "text/html": [
       "<div>\n",
       "<style scoped>\n",
       "    .dataframe tbody tr th:only-of-type {\n",
       "        vertical-align: middle;\n",
       "    }\n",
       "\n",
       "    .dataframe tbody tr th {\n",
       "        vertical-align: top;\n",
       "    }\n",
       "\n",
       "    .dataframe thead th {\n",
       "        text-align: right;\n",
       "    }\n",
       "</style>\n",
       "<table border=\"1\" class=\"dataframe\">\n",
       "  <thead>\n",
       "    <tr style=\"text-align: right;\">\n",
       "      <th></th>\n",
       "      <th>WEATHER_CONDITION</th>\n",
       "      <th>LIGHTING_CONDITION</th>\n",
       "      <th>RD_NO</th>\n",
       "    </tr>\n",
       "  </thead>\n",
       "  <tbody>\n",
       "    <tr>\n",
       "      <th>0</th>\n",
       "      <td>CLEAR</td>\n",
       "      <td>DARKNESS</td>\n",
       "      <td>5800</td>\n",
       "    </tr>\n",
       "    <tr>\n",
       "      <th>1</th>\n",
       "      <td>CLEAR</td>\n",
       "      <td>DARKNESS, LIGHTED ROAD</td>\n",
       "      <td>26519</td>\n",
       "    </tr>\n",
       "    <tr>\n",
       "      <th>2</th>\n",
       "      <td>CLEAR</td>\n",
       "      <td>DAWN</td>\n",
       "      <td>1854</td>\n",
       "    </tr>\n",
       "    <tr>\n",
       "      <th>3</th>\n",
       "      <td>CLEAR</td>\n",
       "      <td>DAYLIGHT</td>\n",
       "      <td>91187</td>\n",
       "    </tr>\n",
       "    <tr>\n",
       "      <th>4</th>\n",
       "      <td>CLEAR</td>\n",
       "      <td>DUSK</td>\n",
       "      <td>3696</td>\n",
       "    </tr>\n",
       "  </tbody>\n",
       "</table>\n",
       "</div>"
      ],
      "text/plain": [
       "  WEATHER_CONDITION      LIGHTING_CONDITION  RD_NO\n",
       "0             CLEAR                DARKNESS   5800\n",
       "1             CLEAR  DARKNESS, LIGHTED ROAD  26519\n",
       "2             CLEAR                    DAWN   1854\n",
       "3             CLEAR                DAYLIGHT  91187\n",
       "4             CLEAR                    DUSK   3696"
      ]
     },
     "execution_count": 65,
     "metadata": {},
     "output_type": "execute_result"
    }
   ],
   "source": [
    "weatherVlighting.head()"
   ]
  },
  {
   "cell_type": "code",
   "execution_count": 74,
   "metadata": {},
   "outputs": [
    {
     "data": {
      "image/png": "[encoded data removed]",
      "text/plain": [
       "<Figure size 720x720 with 2 Axes>"
      ]
     },
     "metadata": {
      "needs_background": "light"
     },
     "output_type": "display_data"
    }
   ],
   "source": [
    "heatmap2_df = weatherVlighting.pivot('WEATHER_CONDITION','LIGHTING_CONDITION','RD_NO')\n",
    "\n",
    "fig, ax = plt.subplots(figsize=(10,10))\n",
    "display_heatmap = sns.heatmap(heatmap2_df,ax=ax,cmap=\"BuPu\")\n",
    "# Save the figure\n",
    "plt.title(\"Crashes - Weather vs. Lighting Conditions\")\n",
    "ax.figure.tight_layout()\n",
    "display_heatmap.figure.savefig(\"WeathervLighting3.png\")"
   ]
  },
  {
   "cell_type": "code",
   "execution_count": null,
   "metadata": {},
   "outputs": [],
   "source": []
  }
 ],
 "metadata": {
  "kernelspec": {
   "display_name": "Python 3",
   "language": "python",
   "name": "python3"
  },
  "language_info": {
   "codemirror_mode": {
    "name": "ipython",
    "version": 3
   },
   "file_extension": ".py",
   "mimetype": "text/x-python",
   "name": "python",
   "nbconvert_exporter": "python",
   "pygments_lexer": "ipython3",
   "version": "3.6.6"
  }
 },
 "nbformat": 4,
 "nbformat_minor": 2
}
