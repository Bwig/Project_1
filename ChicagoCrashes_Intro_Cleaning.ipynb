{
 "cells": [
  {
   "cell_type": "markdown",
   "metadata": {},
   "source": [
    "# A Brief Look at Chicago Traffic Accidents in Recent Years"
   ]
  },
  {
   "cell_type": "markdown",
   "metadata": {},
   "source": [
    "![Chicago Traffic](https://fuphotos.files.wordpress.com/2010/11/2010chicago-122.jpg)"
   ]
  },
  {
   "cell_type": "markdown",
   "metadata": {},
   "source": [
    "Image courtesy fuphotos: https://fuphotos.wordpress.com/2010/11/08/chicago-traffic/"
   ]
  },
  {
   "cell_type": "markdown",
   "metadata": {},
   "source": [
    "## About the dataset\n",
    "### Source: https://data.cityofchicago.org/Transportation/Traffic-Crashes-Crashes/85ca-t3if/\n",
    "This dataset is a compilation of records collected through an electronic crash reporting system at the Chicago Police Department when official crash reports are submitted. It is important to note that, according to the metadata, about half reports are self-reported by drivers involved in minor incedents and the other half are reported by the responding officer(s). It is also worth noting that data from only a few police districts was available in 2015 and citywide data became available in 2017 (this becomes apparent in the data as we will see later). Also, crashes that are handled by other police jurisdictions aside from CPD are not included in this dataset."
   ]
  },
  {
   "cell_type": "markdown",
   "metadata": {},
   "source": [
    "## Getting Started\n",
    "#### Exploring the data\n",
    "Our team looked at the dataset together and finalized this notebook. It shows our process of exploring the data, and determining which columns we wanted to keep or discard in order to ask and attempt to answer meaningful questions. "
   ]
  },
  {
   "cell_type": "code",
   "execution_count": 1,
   "metadata": {},
   "outputs": [],
   "source": [
    "# We only need pandas for the exploration process.\n",
    "# Other modules will be imported during the analysis portion of our study. \n",
    "import pandas as pd"
   ]
  },
  {
   "cell_type": "code",
   "execution_count": 2,
   "metadata": {},
   "outputs": [],
   "source": [
    "# Convert the entire dataset, downloaded as a csv, to a pandas dataframe. \n",
    "crashes_df = pd.read_csv('CHC_Crashes.csv')"
   ]
  },
  {
   "cell_type": "markdown",
   "metadata": {},
   "source": [
    "### Exploring the dataset"
   ]
  },
  {
   "cell_type": "code",
   "execution_count": 3,
   "metadata": {},
   "outputs": [
    {
     "data": {
      "text/plain": [
       "RD_NO                             object\n",
       "CRASH_DATE_EST_I                  object\n",
       "CRASH_DATE                        object\n",
       "POSTED_SPEED_LIMIT                 int64\n",
       "TRAFFIC_CONTROL_DEVICE            object\n",
       "DEVICE_CONDITION                  object\n",
       "WEATHER_CONDITION                 object\n",
       "LIGHTING_CONDITION                object\n",
       "FIRST_CRASH_TYPE                  object\n",
       "TRAFFICWAY_TYPE                   object\n",
       "LANE_CNT                         float64\n",
       "ALIGNMENT                         object\n",
       "ROADWAY_SURFACE_COND              object\n",
       "ROAD_DEFECT                       object\n",
       "REPORT_TYPE                       object\n",
       "CRASH_TYPE                        object\n",
       "INTERSECTION_RELATED_I            object\n",
       "NOT_RIGHT_OF_WAY_I                object\n",
       "HIT_AND_RUN_I                     object\n",
       "DAMAGE                            object\n",
       "DATE_POLICE_NOTIFIED              object\n",
       "PRIM_CONTRIBUTORY_CAUSE           object\n",
       "SEC_CONTRIBUTORY_CAUSE            object\n",
       "STREET_NO                          int64\n",
       "STREET_DIRECTION                  object\n",
       "STREET_NAME                       object\n",
       "BEAT_OF_OCCURRENCE               float64\n",
       "PHOTOS_TAKEN_I                    object\n",
       "STATEMENTS_TAKEN_I                object\n",
       "DOORING_I                         object\n",
       "WORK_ZONE_I                       object\n",
       "WORK_ZONE_TYPE                    object\n",
       "WORKERS_PRESENT_I                 object\n",
       "NUM_UNITS                        float64\n",
       "MOST_SEVERE_INJURY                object\n",
       "INJURIES_TOTAL                   float64\n",
       "INJURIES_FATAL                   float64\n",
       "INJURIES_INCAPACITATING          float64\n",
       "INJURIES_NON_INCAPACITATING      float64\n",
       "INJURIES_REPORTED_NOT_EVIDENT    float64\n",
       "INJURIES_NO_INDICATION           float64\n",
       "INJURIES_UNKNOWN                 float64\n",
       "CRASH_HOUR                         int64\n",
       "CRASH_DAY_OF_WEEK                  int64\n",
       "CRASH_MONTH                        int64\n",
       "LATITUDE                         float64\n",
       "LONGITUDE                        float64\n",
       "LOCATION                          object\n",
       "dtype: object"
      ]
     },
     "execution_count": 3,
     "metadata": {},
     "output_type": "execute_result"
    }
   ],
   "source": [
    "# Check datatypes\n",
    "crashes_df.dtypes"
   ]
  },
  {
   "cell_type": "code",
   "execution_count": 4,
   "metadata": {},
   "outputs": [
    {
     "data": {
      "text/plain": [
       "(227505, 48)"
      ]
     },
     "execution_count": 4,
     "metadata": {},
     "output_type": "execute_result"
    }
   ],
   "source": [
    "# Getting a feel for the size of the data\n",
    "crashes_df.shape"
   ]
  },
  {
   "cell_type": "markdown",
   "metadata": {},
   "source": [
    "#### 48 Columns is a lot to sort through. We decided to get a look at the columns and decide which may or may not be useful to ask questions of."
   ]
  },
  {
   "cell_type": "code",
   "execution_count": 5,
   "metadata": {},
   "outputs": [
    {
     "data": {
      "text/plain": [
       "Index(['RD_NO', 'CRASH_DATE_EST_I', 'CRASH_DATE', 'POSTED_SPEED_LIMIT',\n",
       "       'TRAFFIC_CONTROL_DEVICE', 'DEVICE_CONDITION', 'WEATHER_CONDITION',\n",
       "       'LIGHTING_CONDITION', 'FIRST_CRASH_TYPE', 'TRAFFICWAY_TYPE', 'LANE_CNT',\n",
       "       'ALIGNMENT', 'ROADWAY_SURFACE_COND', 'ROAD_DEFECT', 'REPORT_TYPE',\n",
       "       'CRASH_TYPE', 'INTERSECTION_RELATED_I', 'NOT_RIGHT_OF_WAY_I',\n",
       "       'HIT_AND_RUN_I', 'DAMAGE', 'DATE_POLICE_NOTIFIED',\n",
       "       'PRIM_CONTRIBUTORY_CAUSE', 'SEC_CONTRIBUTORY_CAUSE', 'STREET_NO',\n",
       "       'STREET_DIRECTION', 'STREET_NAME', 'BEAT_OF_OCCURRENCE',\n",
       "       'PHOTOS_TAKEN_I', 'STATEMENTS_TAKEN_I', 'DOORING_I', 'WORK_ZONE_I',\n",
       "       'WORK_ZONE_TYPE', 'WORKERS_PRESENT_I', 'NUM_UNITS',\n",
       "       'MOST_SEVERE_INJURY', 'INJURIES_TOTAL', 'INJURIES_FATAL',\n",
       "       'INJURIES_INCAPACITATING', 'INJURIES_NON_INCAPACITATING',\n",
       "       'INJURIES_REPORTED_NOT_EVIDENT', 'INJURIES_NO_INDICATION',\n",
       "       'INJURIES_UNKNOWN', 'CRASH_HOUR', 'CRASH_DAY_OF_WEEK', 'CRASH_MONTH',\n",
       "       'LATITUDE', 'LONGITUDE', 'LOCATION'],\n",
       "      dtype='object')"
      ]
     },
     "execution_count": 5,
     "metadata": {},
     "output_type": "execute_result"
    }
   ],
   "source": [
    "# Display columns (or pandas series)\n",
    "crashes_df.columns"
   ]
  },
  {
   "cell_type": "markdown",
   "metadata": {},
   "source": [
    "#### Removing data we considered questionable or irrelevant\n",
    "Our team iteratively reviewed the data and decided to not consider crashes that reported a lane count above 12. We also removed columns we agreed may not add any value to our analysis."
   ]
  },
  {
   "cell_type": "code",
   "execution_count": 6,
   "metadata": {},
   "outputs": [],
   "source": [
    "# Create a new dataframe with crashes involving a lane count of less than 12\n",
    "crashes_1 = crashes_df.loc[(crashes_df['LANE_CNT'] <= 12)]\n",
    "# Remove extraneous columns\n",
    "injuries = ['INJURIES_NON_INCAPACITATING', 'INJURIES_REPORTED_NOT_EVIDENT', \n",
    "            'INJURIES_NO_INDICATION', 'INJURIES_UNKNOWN', \n",
    "            'INJURIES_INCAPACITATING', 'PHOTOS_TAKEN_I',\n",
    "            'STATEMENTS_TAKEN_I', 'DOORING_I',\n",
    "            'WORK_ZONE_I', 'WORK_ZONE_TYPE',\n",
    "            'WORKERS_PRESENT_I', 'NOT_RIGHT_OF_WAY_I',\n",
    "            'DATE_POLICE_NOTIFIED', 'LOCATION']\n",
    "\n",
    "for item in injuries:\n",
    "    del crashes_1[item]"
   ]
  },
  {
   "cell_type": "code",
   "execution_count": 7,
   "metadata": {},
   "outputs": [
    {
     "data": {
      "text/plain": [
       "Index(['RD_NO', 'CRASH_DATE_EST_I', 'CRASH_DATE', 'POSTED_SPEED_LIMIT',\n",
       "       'TRAFFIC_CONTROL_DEVICE', 'DEVICE_CONDITION', 'WEATHER_CONDITION',\n",
       "       'LIGHTING_CONDITION', 'FIRST_CRASH_TYPE', 'TRAFFICWAY_TYPE', 'LANE_CNT',\n",
       "       'ALIGNMENT', 'ROADWAY_SURFACE_COND', 'ROAD_DEFECT', 'REPORT_TYPE',\n",
       "       'CRASH_TYPE', 'INTERSECTION_RELATED_I', 'HIT_AND_RUN_I', 'DAMAGE',\n",
       "       'PRIM_CONTRIBUTORY_CAUSE', 'SEC_CONTRIBUTORY_CAUSE', 'STREET_NO',\n",
       "       'STREET_DIRECTION', 'STREET_NAME', 'BEAT_OF_OCCURRENCE', 'NUM_UNITS',\n",
       "       'MOST_SEVERE_INJURY', 'INJURIES_TOTAL', 'INJURIES_FATAL', 'CRASH_HOUR',\n",
       "       'CRASH_DAY_OF_WEEK', 'CRASH_MONTH', 'LATITUDE', 'LONGITUDE'],\n",
       "      dtype='object')"
      ]
     },
     "execution_count": 7,
     "metadata": {},
     "output_type": "execute_result"
    }
   ],
   "source": [
    "# A look at the refined data\n",
    "crashes_1.columns"
   ]
  },
  {
   "cell_type": "markdown",
   "metadata": {},
   "source": [
    "#### This cut down the size of the dataset significantly, but we now have cleaner data from which we hope to derive some insights."
   ]
  },
  {
   "cell_type": "code",
   "execution_count": 8,
   "metadata": {},
   "outputs": [
    {
     "data": {
      "text/plain": [
       "(162055, 34)"
      ]
     },
     "execution_count": 8,
     "metadata": {},
     "output_type": "execute_result"
    }
   ],
   "source": [
    "crashes_1.shape"
   ]
  },
  {
   "cell_type": "markdown",
   "metadata": {},
   "source": [
    "#### From here, it's time to export to a shareable csv, split up, and perform individual analyses"
   ]
  },
  {
   "cell_type": "code",
   "execution_count": 9,
   "metadata": {},
   "outputs": [],
   "source": [
    "crashes_1.to_csv('Output/Crashes.csv')"
   ]
  }
 ],
 "metadata": {
  "kernelspec": {
   "display_name": "Python 3",
   "language": "python",
   "name": "python3"
  },
  "language_info": {
   "codemirror_mode": {
    "name": "ipython",
    "version": 3
   },
   "file_extension": ".py",
   "mimetype": "text/x-python",
   "name": "python",
   "nbconvert_exporter": "python",
   "pygments_lexer": "ipython3",
   "version": "3.6.5"
  }
 },
 "nbformat": 4,
 "nbformat_minor": 2
}
